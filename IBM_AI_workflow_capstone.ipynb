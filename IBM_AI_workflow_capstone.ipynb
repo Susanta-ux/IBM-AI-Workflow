{
  "nbformat": 4,
  "nbformat_minor": 0,
  "metadata": {
    "colab": {
      "name": "IBM AI-workflow-capstone.ipynb",
      "provenance": [],
      "collapsed_sections": []
    },
    "kernelspec": {
      "name": "python3",
      "display_name": "Python 3"
    }
  },
  "cells": [
    {
      "cell_type": "markdown",
      "metadata": {
        "id": "ww96fZfPojuG",
        "colab_type": "text"
      },
      "source": [
        "# Time Series Data Analysis and Revenue Prediction with Michine Learning   \n",
        "\n",
        "### -- AI-Enterprise-Workflow Professional certificate Capstone by IBM/Coursera"
      ]
    },
    {
      "cell_type": "markdown",
      "metadata": {
        "id": "Tp1Yzm8D4Smv",
        "colab_type": "text"
      },
      "source": [
        "## Table of contents\n",
        "* [Introduction: Business Problem](#introduction)\n",
        "* [Data Source](#data)\n",
        "* [Methodology](#methodology)\n",
        "* [Analysis](#analysis)\n",
        "* [Feature Enginnering](#feature) \n",
        "* [Modelling](#modelling)\n",
        "* [Results and Discussion](#results)"
      ]
    },
    {
      "cell_type": "markdown",
      "metadata": {
        "id": "tPEZ5wB6ohzE",
        "colab_type": "text"
      },
      "source": [
        "## Part 1. Introdiction: Business Problem<a name=\"introduction\"></a>\n",
        "\n",
        "As a video service company similar to NETFLIX, AAVAIL launched using a tiered, subscription-based service which showed promise, but conversations with users, especially those outside of US markets, prompted an experiment using an new approach. This experiment was carried out mostly outside of the US and there are now a couple of years of data with a few thousand active users. The data are transaction-level purchases across 38 different countries and are invoiced in batches. Management has nearly decided to make the switch to the new model, but they find it difficult to predict monthly revenue. \n",
        "\n",
        "The aim of this project is first to do the data analysis on the current database and then build a model that, at any point in time, to predict the revenue for the following month. The management also want the model to be able to project revenue for the top ten countries with the most revenue.\n",
        "\n",
        "At last, for easy applying by other team with less IT skills like the marketing team, the management needs a API to automate the whole process, from extracting relevant data from multiple data sources to model dployment for revenue prediction.\n",
        "\n",
        "\n"
      ]
    },
    {
      "cell_type": "markdown",
      "metadata": {
        "id": "71jCMWpf9jLW",
        "colab_type": "text"
      },
      "source": [
        "## Part 2. Data Source<a name=\"data\"></a>\n",
        "The data for this case study come from the online retail data set and are available through the UCI Machine Learning Repository. The original data were published as a study that used RFM model to explore customer segmentation in the data set [1]. The data presented in this study are derived from this data set with simulated features and re-named columns to align with the AAVAIL case study. The dataset are a couple of jason files with details of the transaction from the customer since 2017"
      ]
    },
    {
      "cell_type": "code",
      "metadata": {
        "id": "IFF0bxDS4FdH",
        "colab_type": "code",
        "outputId": "1afb98aa-0c95-4b99-923f-e5bfdbc1e948",
        "colab": {
          "base_uri": "https://localhost:8080/",
          "height": 71
        }
      },
      "source": [
        "import os\n",
        "import sys\n",
        "import re\n",
        "import shutil\n",
        "import time\n",
        "import pickle\n",
        "from collections import defaultdict\n",
        "from datetime import datetime\n",
        "import numpy as np\n",
        "import pandas as pd\n",
        "import seaborn as sns\n",
        "import matplotlib.pyplot as plt\n",
        "import matplotlib.dates as mdates\n",
        "from pandas.plotting import register_matplotlib_converters\n",
        "register_matplotlib_converters()\n",
        "sns.set()"
      ],
      "execution_count": 0,
      "outputs": [
        {
          "output_type": "stream",
          "text": [
            "/usr/local/lib/python3.6/dist-packages/statsmodels/tools/_testing.py:19: FutureWarning: pandas.util.testing is deprecated. Use the functions in the public API at pandas.testing instead.\n",
            "  import pandas.util.testing as tm\n"
          ],
          "name": "stderr"
        }
      ]
    },
    {
      "cell_type": "code",
      "metadata": {
        "id": "lJbJOX5l4sTz",
        "colab_type": "code",
        "colab": {}
      },
      "source": [
        "data_dir='/content/drive/My Drive/Colab Notebooks/IBM AI-workflow-capstone-master/cs-train'\n",
        "file_list = [os.path.join(data_dir,f) for f in os.listdir(data_dir) if re.search(\"\\.json\",f)]\n",
        "\n",
        "## read data into a temp structure\n",
        "all_months = {}\n",
        "for file_name in file_list:\n",
        "    df = pd.read_json(file_name)\n",
        "    all_months[os.path.split(file_name)[-1]] = df"
      ],
      "execution_count": 0,
      "outputs": []
    },
    {
      "cell_type": "code",
      "metadata": {
        "id": "6hNp753b42jm",
        "colab_type": "code",
        "outputId": "8d942ff1-d513-4216-81ce-ab3b514e4f8d",
        "colab": {
          "base_uri": "https://localhost:8080/",
          "height": 1000
        }
      },
      "source": [
        "all_months"
      ],
      "execution_count": 0,
      "outputs": [
        {
          "output_type": "execute_result",
          "data": {
            "text/plain": [
              "{'invoices-2017-11.json':              country  customer_id invoice  ...  year month  day\n",
              " 0     United Kingdom      13085.0  489434  ...  2017    11   28\n",
              " 1     United Kingdom          NaN  489597  ...  2017    11   28\n",
              " 2     United Kingdom          NaN  489597  ...  2017    11   28\n",
              " 3     United Kingdom          NaN  489597  ...  2017    11   28\n",
              " 4     United Kingdom          NaN  489597  ...  2017    11   28\n",
              " ...              ...          ...     ...  ...   ...   ...  ...\n",
              " 9497  United Kingdom      13895.0  490052  ...  2017    11   30\n",
              " 9498  United Kingdom      16779.0  490048  ...  2017    11   30\n",
              " 9499  United Kingdom      13895.0  490052  ...  2017    11   30\n",
              " 9500  United Kingdom      13895.0  490052  ...  2017    11   30\n",
              " 9501  United Kingdom      13895.0  490052  ...  2017    11   30\n",
              " \n",
              " [9502 rows x 9 columns],\n",
              " 'invoices-2017-12.json':               country  customer_id invoice  ...  year month  day\n",
              " 0      United Kingdom      13162.0  490297  ...  2017    12    1\n",
              " 1      United Kingdom      13162.0  490297  ...  2017    12    1\n",
              " 2      United Kingdom      13162.0  490297  ...  2017    12    1\n",
              " 3      United Kingdom      13162.0  490297  ...  2017    12    1\n",
              " 4      United Kingdom      13162.0  490297  ...  2017    12    1\n",
              " ...               ...          ...     ...  ...   ...   ...  ...\n",
              " 35721           Spain      12539.0  493393  ...  2017    12   20\n",
              " 35722           Spain      12539.0  493393  ...  2017    12   20\n",
              " 35723           Spain      12539.0  493393  ...  2017    12   20\n",
              " 35724           Spain      12539.0  493393  ...  2017    12   20\n",
              " 35725           Spain      12539.0  493393  ...  2017    12   20\n",
              " \n",
              " [35726 rows x 9 columns],\n",
              " 'invoices-2018-01.json':               country  customer_id invoice  ...  year month  day\n",
              " 0      United Kingdom      15581.0  493463  ...  2018     1    1\n",
              " 1      United Kingdom      15581.0  493463  ...  2018     1    1\n",
              " 2      United Kingdom      15581.0  493463  ...  2018     1    1\n",
              " 3      United Kingdom      15581.0  493463  ...  2018     1    1\n",
              " 4      United Kingdom      15581.0  493463  ...  2018     1    1\n",
              " ...               ...          ...     ...  ...   ...   ...  ...\n",
              " 35677  United Kingdom      13553.0  496651  ...  2018     1   31\n",
              " 35678  United Kingdom      13553.0  496651  ...  2018     1   31\n",
              " 35679  United Kingdom      13553.0  496651  ...  2018     1   31\n",
              " 35680  United Kingdom      13553.0  496651  ...  2018     1   31\n",
              " 35681  United Kingdom      13553.0  496651  ...  2018     1   31\n",
              " \n",
              " [35682 rows x 9 columns],\n",
              " 'invoices-2018-02.json':               country  customer_id invoice  ...  year month  day\n",
              " 0      United Kingdom      16986.0  496918  ...  2018     2    1\n",
              " 1      United Kingdom      16986.0  496918  ...  2018     2    1\n",
              " 2      United Kingdom      16986.0  496918  ...  2018     2    1\n",
              " 3      United Kingdom      16986.0  496919  ...  2018     2    1\n",
              " 4      United Kingdom      16986.0  496918  ...  2018     2    1\n",
              " ...               ...          ...     ...  ...   ...   ...  ...\n",
              " 29868  United Kingdom      13097.0  499918  ...  2018     2   28\n",
              " 29869  United Kingdom      13097.0  499918  ...  2018     2   28\n",
              " 29870  United Kingdom      13097.0  499918  ...  2018     2   28\n",
              " 29871  United Kingdom      13097.0  499918  ...  2018     2   28\n",
              " 29872  United Kingdom      13097.0  499918  ...  2018     2   28\n",
              " \n",
              " [29873 rows x 9 columns],\n",
              " 'invoices-2018-03.json':               country  customer_id invoice  ...  year month  day\n",
              " 0      United Kingdom      14135.0  500120  ...  2018     3    1\n",
              " 1      United Kingdom      14135.0  500120  ...  2018     3    1\n",
              " 2      United Kingdom      14135.0  500120  ...  2018     3    1\n",
              " 3      United Kingdom      14135.0  500120  ...  2018     3    1\n",
              " 4      United Kingdom      14135.0  500120  ...  2018     3    1\n",
              " ...               ...          ...     ...  ...   ...   ...  ...\n",
              " 38613  United Kingdom      16434.0  503516  ...  2018     3   29\n",
              " 38614  United Kingdom      16434.0  503516  ...  2018     3   29\n",
              " 38615  United Kingdom      14200.0  503517  ...  2018     3   29\n",
              " 38616  United Kingdom      16434.0  503516  ...  2018     3   29\n",
              " 38617  United Kingdom      16434.0  503516  ...  2018     3   29\n",
              " \n",
              " [38618 rows x 9 columns],\n",
              " 'invoices-2018-04.json':               country  customer_id invoice  ...  year month  day\n",
              " 0      United Kingdom      13089.0  503712  ...  2018     4    3\n",
              " 1      United Kingdom      13089.0  503712  ...  2018     4    3\n",
              " 2      United Kingdom      13089.0  503712  ...  2018     4    3\n",
              " 3      United Kingdom      13089.0  503712  ...  2018     4    3\n",
              " 4      United Kingdom      12748.0  503711  ...  2018     4    3\n",
              " ...               ...          ...     ...  ...   ...   ...  ...\n",
              " 33178  United Kingdom      16119.0  506696  ...  2018     4   29\n",
              " 33179  United Kingdom      17675.0  506697  ...  2018     4   29\n",
              " 33180  United Kingdom      17675.0  506697  ...  2018     4   29\n",
              " 33181  United Kingdom      17675.0  506697  ...  2018     4   29\n",
              " 33182  United Kingdom      17675.0  506697  ...  2018     4   29\n",
              " \n",
              " [33183 rows x 9 columns],\n",
              " 'invoices-2018-05.json':               country  customer_id  invoice  ...  year month  day\n",
              " 0      United Kingdom      17757.0   506857  ...  2018     5    1\n",
              " 1      United Kingdom      17757.0   506857  ...  2018     5    1\n",
              " 2      United Kingdom      17757.0   506857  ...  2018     5    1\n",
              " 3      United Kingdom      17757.0   506857  ...  2018     5    1\n",
              " 4      United Kingdom      17757.0   506857  ...  2018     5    1\n",
              " ...               ...          ...      ...  ...   ...   ...  ...\n",
              " 38386  United Kingdom      15950.0  C510756  ...  2018     5   31\n",
              " 38387         Belgium      12874.0   510757  ...  2018     5   31\n",
              " 38388         Belgium      12874.0   510757  ...  2018     5   31\n",
              " 38389         Belgium      12874.0   510757  ...  2018     5   31\n",
              " 38390         Belgium      12874.0   510757  ...  2018     5   31\n",
              " \n",
              " [38391 rows x 9 columns],\n",
              " 'invoices-2018-06.json':               country  customer_id invoice  ...  year month  day\n",
              " 0      United Kingdom          NaN  511006  ...  2018     6    1\n",
              " 1      United Kingdom          NaN  511006  ...  2018     6    1\n",
              " 2      United Kingdom          NaN  511006  ...  2018     6    1\n",
              " 3      United Kingdom          NaN  511006  ...  2018     6    1\n",
              " 4      United Kingdom          NaN  511006  ...  2018     6    1\n",
              " ...               ...          ...     ...  ...   ...   ...  ...\n",
              " 38982         Germany      12633.0  514387  ...  2018     6   29\n",
              " 38983         Germany      12633.0  514387  ...  2018     6   29\n",
              " 38984         Germany      12633.0  514387  ...  2018     6   29\n",
              " 38985         Germany      12633.0  514387  ...  2018     6   29\n",
              " 38986         Germany      12633.0  514387  ...  2018     6   29\n",
              " \n",
              " [38987 rows x 9 columns],\n",
              " 'invoices-2018-07.json':               country  customer_id invoice  ...  year month  day\n",
              " 0      United Kingdom      14647.0  514510  ...  2018     7    1\n",
              " 1      United Kingdom      14647.0  514510  ...  2018     7    1\n",
              " 2      United Kingdom      14647.0  514510  ...  2018     7    1\n",
              " 3      United Kingdom      14647.0  514510  ...  2018     7    1\n",
              " 4      United Kingdom      14647.0  514510  ...  2018     7    1\n",
              " ...               ...          ...     ...  ...   ...   ...  ...\n",
              " 34092  United Kingdom      17298.0  517964  ...  2018     7   31\n",
              " 34093  United Kingdom      17298.0  517964  ...  2018     7   31\n",
              " 34094  United Kingdom      17298.0  517964  ...  2018     7   31\n",
              " 34095  United Kingdom      17298.0  517964  ...  2018     7   31\n",
              " 34096  United Kingdom      17298.0  517964  ...  2018     7   31\n",
              " \n",
              " [34097 rows x 9 columns],\n",
              " 'invoices-2018-08.json':               country  customer_id invoice  ...  year month  day\n",
              " 0      United Kingdom          NaN  518138  ...  2018     8    1\n",
              " 1      United Kingdom          NaN  518138  ...  2018     8    1\n",
              " 2      United Kingdom          NaN  518138  ...  2018     8    1\n",
              " 3      United Kingdom          NaN  518138  ...  2018     8    1\n",
              " 4      United Kingdom          NaN  518138  ...  2018     8    1\n",
              " ...               ...          ...     ...  ...   ...   ...  ...\n",
              " 33443  United Kingdom      16177.0  521294  ...  2018     8   31\n",
              " 33444  United Kingdom      16177.0  521294  ...  2018     8   31\n",
              " 33445  United Kingdom      16177.0  521294  ...  2018     8   31\n",
              " 33446  United Kingdom      16177.0  521294  ...  2018     8   31\n",
              " 33447  United Kingdom      16177.0  521294  ...  2018     8   31\n",
              " \n",
              " [33448 rows x 9 columns],\n",
              " 'invoices-2018-09.json':               country  customer_id invoice  ...  year month  day\n",
              " 0      United Kingdom      16327.0  521390  ...  2018     9    2\n",
              " 1      United Kingdom      16327.0  521390  ...  2018     9    2\n",
              " 2      United Kingdom      16327.0  521390  ...  2018     9    2\n",
              " 3      United Kingdom      16327.0  521390  ...  2018     9    2\n",
              " 4      United Kingdom      16327.0  521390  ...  2018     9    2\n",
              " ...               ...          ...     ...  ...   ...   ...  ...\n",
              " 42374  United Kingdom      13838.0  525025  ...  2018     9   30\n",
              " 42375  United Kingdom      13838.0  525025  ...  2018     9   30\n",
              " 42376  United Kingdom      13838.0  525025  ...  2018     9   30\n",
              " 42377  United Kingdom      13838.0  525025  ...  2018     9   30\n",
              " 42378  United Kingdom      13838.0  525025  ...  2018     9   30\n",
              " \n",
              " [42379 rows x 9 columns],\n",
              " 'invoices-2018-10.json':               country  customer_id invoice  ...  year month  day\n",
              " 0      United Kingdom      16556.0  525228  ...  2018    10    1\n",
              " 1      United Kingdom      16556.0  525228  ...  2018    10    1\n",
              " 2      United Kingdom      17696.0  525227  ...  2018    10    1\n",
              " 3      United Kingdom      17696.0  525227  ...  2018    10    1\n",
              " 4      United Kingdom      17696.0  525227  ...  2018    10    1\n",
              " ...               ...          ...     ...  ...   ...   ...  ...\n",
              " 61747  United Kingdom      15915.0  530437  ...  2018    10   31\n",
              " 61748  United Kingdom      15915.0  530437  ...  2018    10   31\n",
              " 61749  United Kingdom      15915.0  530437  ...  2018    10   31\n",
              " 61750  United Kingdom      15915.0  530437  ...  2018    10   31\n",
              " 61751  United Kingdom      15915.0  530437  ...  2018    10   31\n",
              " \n",
              " [61752 rows x 9 columns],\n",
              " 'invoices-2018-11.json':               country  customer_id invoice  ...  year month  day\n",
              " 0      United Kingdom          NaN  530850  ...  2018    11    1\n",
              " 1      United Kingdom          NaN  530850  ...  2018    11    1\n",
              " 2      United Kingdom          NaN  530850  ...  2018    11    1\n",
              " 3      United Kingdom          NaN  530850  ...  2018    11    1\n",
              " 4      United Kingdom          NaN  530850  ...  2018    11    1\n",
              " ...               ...          ...     ...  ...   ...   ...  ...\n",
              " 86133  United Kingdom          NaN  536876  ...  2018    11   30\n",
              " 86134  United Kingdom          NaN  536876  ...  2018    11   30\n",
              " 86135  United Kingdom          NaN  536876  ...  2018    11   30\n",
              " 86136  United Kingdom          NaN  536876  ...  2018    11   30\n",
              " 86137  United Kingdom          NaN  536876  ...  2018    11   30\n",
              " \n",
              " [86138 rows x 9 columns],\n",
              " 'invoices-2018-12.json':               country  customer_id invoice  ...  year month  day\n",
              " 0      United Kingdom      15426.0  537196  ...  2018    12    2\n",
              " 1      United Kingdom      12748.0  537225  ...  2018    12    2\n",
              " 2      United Kingdom      16983.0  537134  ...  2018    12    2\n",
              " 3      United Kingdom      16983.0  537134  ...  2018    12    2\n",
              " 4      United Kingdom      16983.0  537134  ...  2018    12    2\n",
              " ...               ...          ...     ...  ...   ...   ...  ...\n",
              " 50161  United Kingdom          NaN  539958  ...  2018    12   20\n",
              " 50162  United Kingdom          NaN  539958  ...  2018    12   20\n",
              " 50163  United Kingdom          NaN  539958  ...  2018    12   20\n",
              " 50164  United Kingdom          NaN  539958  ...  2018    12   20\n",
              " 50165  United Kingdom          NaN  539958  ...  2018    12   20\n",
              " \n",
              " [50166 rows x 9 columns],\n",
              " 'invoices-2019-01.json':               country  customer_id invoice  ...  year month  day\n",
              " 0      United Kingdom          NaN  540026  ...  2019     1    1\n",
              " 1      United Kingdom          NaN  540026  ...  2019     1    1\n",
              " 2      United Kingdom          NaN  540026  ...  2019     1    1\n",
              " 3      United Kingdom          NaN  540026  ...  2019     1    1\n",
              " 4      United Kingdom          NaN  540026  ...  2019     1    1\n",
              " ...               ...          ...     ...  ...   ...   ...  ...\n",
              " 39116  United Kingdom          NaN  543097  ...  2019     1   31\n",
              " 39117  United Kingdom          NaN  543097  ...  2019     1   31\n",
              " 39118  United Kingdom          NaN  543097  ...  2019     1   31\n",
              " 39119  United Kingdom          NaN  543097  ...  2019     1   31\n",
              " 39120  United Kingdom          NaN  543097  ...  2019     1   31\n",
              " \n",
              " [39121 rows x 9 columns],\n",
              " 'invoices-2019-02.json':               country  customer_id  invoice  ...  year month  day\n",
              " 0      United Kingdom          NaN   543201  ...  2019     2    1\n",
              " 1      United Kingdom      17291.0   543202  ...  2019     2    1\n",
              " 2      United Kingdom          NaN   543201  ...  2019     2    1\n",
              " 3      United Kingdom          NaN   543201  ...  2019     2    1\n",
              " 4      United Kingdom          NaN   543201  ...  2019     2    1\n",
              " ...               ...          ...      ...  ...   ...   ...  ...\n",
              " 27413  United Kingdom      15719.0   545503  ...  2019     2   28\n",
              " 27414  United Kingdom      16422.0  C545478  ...  2019     2   28\n",
              " 27415  United Kingdom      15719.0   545503  ...  2019     2   28\n",
              " 27416  United Kingdom      15078.0  C545502  ...  2019     2   28\n",
              " 27417  United Kingdom      15719.0   545503  ...  2019     2   28\n",
              " \n",
              " [27418 rows x 9 columns],\n",
              " 'invoices-2019-03.json':               country  customer_id invoice  ...  year month  day\n",
              " 0      United Kingdom      14670.0  545658  ...  2019     3    1\n",
              " 1      United Kingdom      14670.0  545658  ...  2019     3    1\n",
              " 2      United Kingdom      14670.0  545658  ...  2019     3    1\n",
              " 3      United Kingdom      14670.0  545658  ...  2019     3    1\n",
              " 4      United Kingdom      14670.0  545658  ...  2019     3    1\n",
              " ...               ...          ...     ...  ...   ...   ...  ...\n",
              " 35050  United Kingdom      13269.0  548708  ...  2019     3   31\n",
              " 35051  United Kingdom      13269.0  548708  ...  2019     3   31\n",
              " 35052  United Kingdom      13269.0  548708  ...  2019     3   31\n",
              " 35053  United Kingdom      13269.0  548708  ...  2019     3   31\n",
              " 35054  United Kingdom      13269.0  548708  ...  2019     3   31\n",
              " \n",
              " [35055 rows x 9 columns],\n",
              " 'invoices-2019-04.json':               country  customer_id invoice  ...  year month  day\n",
              " 0      United Kingdom      12971.0  548873  ...  2019     4    1\n",
              " 1      United Kingdom      13015.0  548872  ...  2019     4    1\n",
              " 2      United Kingdom      12971.0  548873  ...  2019     4    1\n",
              " 3      United Kingdom      13015.0  548872  ...  2019     4    1\n",
              " 4      United Kingdom      13015.0  548872  ...  2019     4    1\n",
              " ...               ...          ...     ...  ...   ...   ...  ...\n",
              " 29820  United Kingdom      15696.0  551599  ...  2019     4   30\n",
              " 29821  United Kingdom      15696.0  551599  ...  2019     4   30\n",
              " 29822  United Kingdom      15696.0  551599  ...  2019     4   30\n",
              " 29823  United Kingdom      15696.0  551599  ...  2019     4   30\n",
              " 29824  United Kingdom      15696.0  551599  ...  2019     4   30\n",
              " \n",
              " [29825 rows x 9 columns],\n",
              " 'invoices-2019-05.json':               country  customer_id invoice  ...  year month  day\n",
              " 0      United Kingdom      15144.0  551840  ...  2019     5    1\n",
              " 1      United Kingdom      15144.0  551840  ...  2019     5    1\n",
              " 2      United Kingdom      15144.0  551840  ...  2019     5    1\n",
              " 3      United Kingdom      15144.0  551840  ...  2019     5    1\n",
              " 4      United Kingdom      15144.0  551840  ...  2019     5    1\n",
              " ...               ...          ...     ...  ...   ...   ...  ...\n",
              " 39026  United Kingdom      14700.0  555473  ...  2019     5   31\n",
              " 39027  United Kingdom          NaN  555474  ...  2019     5   31\n",
              " 39028  United Kingdom          NaN  555474  ...  2019     5   31\n",
              " 39029  United Kingdom          NaN  555474  ...  2019     5   31\n",
              " 39030  United Kingdom          NaN  555474  ...  2019     5   31\n",
              " \n",
              " [39031 rows x 9 columns],\n",
              " 'invoices-2019-06.json':               country  customer_id invoice  ...  year month  day\n",
              " 0      United Kingdom      17841.0  555562  ...  2019     6    2\n",
              " 1      United Kingdom      17841.0  555562  ...  2019     6    2\n",
              " 2      United Kingdom      17841.0  555562  ...  2019     6    2\n",
              " 3      United Kingdom      17841.0  555562  ...  2019     6    2\n",
              " 4      United Kingdom      17841.0  555562  ...  2019     6    2\n",
              " ...               ...          ...     ...  ...   ...   ...  ...\n",
              " 34596  United Kingdom      15518.0  558754  ...  2019     6   30\n",
              " 34597  United Kingdom      15518.0  558754  ...  2019     6   30\n",
              " 34598  United Kingdom      15518.0  558754  ...  2019     6   30\n",
              " 34599  United Kingdom      15518.0  558754  ...  2019     6   30\n",
              " 34600  United Kingdom      15518.0  558754  ...  2019     6   30\n",
              " \n",
              " [34601 rows x 9 columns],\n",
              " 'invoices-2019-07.json':               country  customer_id invoice  ...  year month  day\n",
              " 0      United Kingdom      17841.0  558877  ...  2019     7    1\n",
              " 1      United Kingdom      17841.0  558877  ...  2019     7    1\n",
              " 2      United Kingdom      17841.0  558877  ...  2019     7    1\n",
              " 3      United Kingdom      17841.0  558877  ...  2019     7    1\n",
              " 4      United Kingdom      17841.0  558877  ...  2019     7    1\n",
              " ...               ...          ...     ...  ...   ...   ...  ...\n",
              " 42013  United Kingdom      15628.0  562163  ...  2019     7   31\n",
              " 42014  United Kingdom      15628.0  562163  ...  2019     7   31\n",
              " 42015  United Kingdom      15628.0  562163  ...  2019     7   31\n",
              " 42016  United Kingdom      15628.0  562163  ...  2019     7   31\n",
              " 42017  United Kingdom      15628.0  562163  ...  2019     7   31\n",
              " \n",
              " [42018 rows x 9 columns]}"
            ]
          },
          "metadata": {
            "tags": []
          },
          "execution_count": 3
        }
      ]
    },
    {
      "cell_type": "code",
      "metadata": {
        "id": "gIYR73hY5L_u",
        "colab_type": "code",
        "outputId": "e5aaebf9-31ba-451f-ea66-9b526a3966d9",
        "colab": {
          "base_uri": "https://localhost:8080/",
          "height": 419
        }
      },
      "source": [
        "df = pd.concat(list(all_months.values()))\n",
        "df"
      ],
      "execution_count": 0,
      "outputs": [
        {
          "output_type": "execute_result",
          "data": {
            "text/html": [
              "<div>\n",
              "<style scoped>\n",
              "    .dataframe tbody tr th:only-of-type {\n",
              "        vertical-align: middle;\n",
              "    }\n",
              "\n",
              "    .dataframe tbody tr th {\n",
              "        vertical-align: top;\n",
              "    }\n",
              "\n",
              "    .dataframe thead th {\n",
              "        text-align: right;\n",
              "    }\n",
              "</style>\n",
              "<table border=\"1\" class=\"dataframe\">\n",
              "  <thead>\n",
              "    <tr style=\"text-align: right;\">\n",
              "      <th></th>\n",
              "      <th>country</th>\n",
              "      <th>customer_id</th>\n",
              "      <th>invoice</th>\n",
              "      <th>price</th>\n",
              "      <th>stream_id</th>\n",
              "      <th>times_viewed</th>\n",
              "      <th>year</th>\n",
              "      <th>month</th>\n",
              "      <th>day</th>\n",
              "      <th>StreamID</th>\n",
              "      <th>TimesViewed</th>\n",
              "      <th>total_price</th>\n",
              "    </tr>\n",
              "  </thead>\n",
              "  <tbody>\n",
              "    <tr>\n",
              "      <th>0</th>\n",
              "      <td>United Kingdom</td>\n",
              "      <td>17841.0</td>\n",
              "      <td>555562</td>\n",
              "      <td>1.95</td>\n",
              "      <td>22659</td>\n",
              "      <td>1.0</td>\n",
              "      <td>2019</td>\n",
              "      <td>6</td>\n",
              "      <td>2</td>\n",
              "      <td>NaN</td>\n",
              "      <td>NaN</td>\n",
              "      <td>NaN</td>\n",
              "    </tr>\n",
              "    <tr>\n",
              "      <th>1</th>\n",
              "      <td>United Kingdom</td>\n",
              "      <td>17841.0</td>\n",
              "      <td>555562</td>\n",
              "      <td>0.55</td>\n",
              "      <td>21975</td>\n",
              "      <td>5.0</td>\n",
              "      <td>2019</td>\n",
              "      <td>6</td>\n",
              "      <td>2</td>\n",
              "      <td>NaN</td>\n",
              "      <td>NaN</td>\n",
              "      <td>NaN</td>\n",
              "    </tr>\n",
              "    <tr>\n",
              "      <th>2</th>\n",
              "      <td>United Kingdom</td>\n",
              "      <td>17841.0</td>\n",
              "      <td>555562</td>\n",
              "      <td>0.83</td>\n",
              "      <td>23182</td>\n",
              "      <td>1.0</td>\n",
              "      <td>2019</td>\n",
              "      <td>6</td>\n",
              "      <td>2</td>\n",
              "      <td>NaN</td>\n",
              "      <td>NaN</td>\n",
              "      <td>NaN</td>\n",
              "    </tr>\n",
              "    <tr>\n",
              "      <th>3</th>\n",
              "      <td>United Kingdom</td>\n",
              "      <td>17841.0</td>\n",
              "      <td>555562</td>\n",
              "      <td>1.65</td>\n",
              "      <td>22136</td>\n",
              "      <td>1.0</td>\n",
              "      <td>2019</td>\n",
              "      <td>6</td>\n",
              "      <td>2</td>\n",
              "      <td>NaN</td>\n",
              "      <td>NaN</td>\n",
              "      <td>NaN</td>\n",
              "    </tr>\n",
              "    <tr>\n",
              "      <th>4</th>\n",
              "      <td>United Kingdom</td>\n",
              "      <td>17841.0</td>\n",
              "      <td>555562</td>\n",
              "      <td>2.95</td>\n",
              "      <td>22807</td>\n",
              "      <td>2.0</td>\n",
              "      <td>2019</td>\n",
              "      <td>6</td>\n",
              "      <td>2</td>\n",
              "      <td>NaN</td>\n",
              "      <td>NaN</td>\n",
              "      <td>NaN</td>\n",
              "    </tr>\n",
              "    <tr>\n",
              "      <th>...</th>\n",
              "      <td>...</td>\n",
              "      <td>...</td>\n",
              "      <td>...</td>\n",
              "      <td>...</td>\n",
              "      <td>...</td>\n",
              "      <td>...</td>\n",
              "      <td>...</td>\n",
              "      <td>...</td>\n",
              "      <td>...</td>\n",
              "      <td>...</td>\n",
              "      <td>...</td>\n",
              "      <td>...</td>\n",
              "    </tr>\n",
              "    <tr>\n",
              "      <th>33178</th>\n",
              "      <td>United Kingdom</td>\n",
              "      <td>16119.0</td>\n",
              "      <td>506696</td>\n",
              "      <td>1.95</td>\n",
              "      <td>NaN</td>\n",
              "      <td>NaN</td>\n",
              "      <td>2018</td>\n",
              "      <td>4</td>\n",
              "      <td>29</td>\n",
              "      <td>79029</td>\n",
              "      <td>6.0</td>\n",
              "      <td>NaN</td>\n",
              "    </tr>\n",
              "    <tr>\n",
              "      <th>33179</th>\n",
              "      <td>United Kingdom</td>\n",
              "      <td>17675.0</td>\n",
              "      <td>506697</td>\n",
              "      <td>1.69</td>\n",
              "      <td>NaN</td>\n",
              "      <td>NaN</td>\n",
              "      <td>2018</td>\n",
              "      <td>4</td>\n",
              "      <td>29</td>\n",
              "      <td>21242</td>\n",
              "      <td>8.0</td>\n",
              "      <td>NaN</td>\n",
              "    </tr>\n",
              "    <tr>\n",
              "      <th>33180</th>\n",
              "      <td>United Kingdom</td>\n",
              "      <td>17675.0</td>\n",
              "      <td>506697</td>\n",
              "      <td>1.25</td>\n",
              "      <td>NaN</td>\n",
              "      <td>NaN</td>\n",
              "      <td>2018</td>\n",
              "      <td>4</td>\n",
              "      <td>29</td>\n",
              "      <td>20677</td>\n",
              "      <td>8.0</td>\n",
              "      <td>NaN</td>\n",
              "    </tr>\n",
              "    <tr>\n",
              "      <th>33181</th>\n",
              "      <td>United Kingdom</td>\n",
              "      <td>17675.0</td>\n",
              "      <td>506697</td>\n",
              "      <td>1.25</td>\n",
              "      <td>NaN</td>\n",
              "      <td>NaN</td>\n",
              "      <td>2018</td>\n",
              "      <td>4</td>\n",
              "      <td>29</td>\n",
              "      <td>20675</td>\n",
              "      <td>8.0</td>\n",
              "      <td>NaN</td>\n",
              "    </tr>\n",
              "    <tr>\n",
              "      <th>33182</th>\n",
              "      <td>United Kingdom</td>\n",
              "      <td>17675.0</td>\n",
              "      <td>506697</td>\n",
              "      <td>1.25</td>\n",
              "      <td>NaN</td>\n",
              "      <td>NaN</td>\n",
              "      <td>2018</td>\n",
              "      <td>4</td>\n",
              "      <td>29</td>\n",
              "      <td>20676</td>\n",
              "      <td>8.0</td>\n",
              "      <td>NaN</td>\n",
              "    </tr>\n",
              "  </tbody>\n",
              "</table>\n",
              "<p>815011 rows × 12 columns</p>\n",
              "</div>"
            ],
            "text/plain": [
              "              country  customer_id invoice  ...  StreamID TimesViewed  total_price\n",
              "0      United Kingdom      17841.0  555562  ...       NaN         NaN          NaN\n",
              "1      United Kingdom      17841.0  555562  ...       NaN         NaN          NaN\n",
              "2      United Kingdom      17841.0  555562  ...       NaN         NaN          NaN\n",
              "3      United Kingdom      17841.0  555562  ...       NaN         NaN          NaN\n",
              "4      United Kingdom      17841.0  555562  ...       NaN         NaN          NaN\n",
              "...               ...          ...     ...  ...       ...         ...          ...\n",
              "33178  United Kingdom      16119.0  506696  ...     79029         6.0          NaN\n",
              "33179  United Kingdom      17675.0  506697  ...     21242         8.0          NaN\n",
              "33180  United Kingdom      17675.0  506697  ...     20677         8.0          NaN\n",
              "33181  United Kingdom      17675.0  506697  ...     20675         8.0          NaN\n",
              "33182  United Kingdom      17675.0  506697  ...     20676         8.0          NaN\n",
              "\n",
              "[815011 rows x 12 columns]"
            ]
          },
          "metadata": {
            "tags": []
          },
          "execution_count": 4
        }
      ]
    },
    {
      "cell_type": "code",
      "metadata": {
        "id": "mCslxjAMzZDe",
        "colab_type": "code",
        "outputId": "9e40cc7e-2f3c-4b44-c8fb-47abc39ff9e1",
        "colab": {
          "base_uri": "https://localhost:8080/",
          "height": 419
        }
      },
      "source": [
        "df.query('year==2017')"
      ],
      "execution_count": 0,
      "outputs": [
        {
          "output_type": "execute_result",
          "data": {
            "text/html": [
              "<div>\n",
              "<style scoped>\n",
              "    .dataframe tbody tr th:only-of-type {\n",
              "        vertical-align: middle;\n",
              "    }\n",
              "\n",
              "    .dataframe tbody tr th {\n",
              "        vertical-align: top;\n",
              "    }\n",
              "\n",
              "    .dataframe thead th {\n",
              "        text-align: right;\n",
              "    }\n",
              "</style>\n",
              "<table border=\"1\" class=\"dataframe\">\n",
              "  <thead>\n",
              "    <tr style=\"text-align: right;\">\n",
              "      <th></th>\n",
              "      <th>country</th>\n",
              "      <th>customer_id</th>\n",
              "      <th>invoice</th>\n",
              "      <th>price</th>\n",
              "      <th>stream_id</th>\n",
              "      <th>times_viewed</th>\n",
              "      <th>year</th>\n",
              "      <th>month</th>\n",
              "      <th>day</th>\n",
              "      <th>StreamID</th>\n",
              "      <th>TimesViewed</th>\n",
              "      <th>total_price</th>\n",
              "    </tr>\n",
              "  </thead>\n",
              "  <tbody>\n",
              "    <tr>\n",
              "      <th>0</th>\n",
              "      <td>United Kingdom</td>\n",
              "      <td>13085.0</td>\n",
              "      <td>489434</td>\n",
              "      <td>6.95</td>\n",
              "      <td>85048</td>\n",
              "      <td>12.0</td>\n",
              "      <td>2017</td>\n",
              "      <td>11</td>\n",
              "      <td>28</td>\n",
              "      <td>NaN</td>\n",
              "      <td>NaN</td>\n",
              "      <td>NaN</td>\n",
              "    </tr>\n",
              "    <tr>\n",
              "      <th>1</th>\n",
              "      <td>United Kingdom</td>\n",
              "      <td>NaN</td>\n",
              "      <td>489597</td>\n",
              "      <td>8.65</td>\n",
              "      <td>22130</td>\n",
              "      <td>1.0</td>\n",
              "      <td>2017</td>\n",
              "      <td>11</td>\n",
              "      <td>28</td>\n",
              "      <td>NaN</td>\n",
              "      <td>NaN</td>\n",
              "      <td>NaN</td>\n",
              "    </tr>\n",
              "    <tr>\n",
              "      <th>2</th>\n",
              "      <td>United Kingdom</td>\n",
              "      <td>NaN</td>\n",
              "      <td>489597</td>\n",
              "      <td>1.70</td>\n",
              "      <td>22132</td>\n",
              "      <td>6.0</td>\n",
              "      <td>2017</td>\n",
              "      <td>11</td>\n",
              "      <td>28</td>\n",
              "      <td>NaN</td>\n",
              "      <td>NaN</td>\n",
              "      <td>NaN</td>\n",
              "    </tr>\n",
              "    <tr>\n",
              "      <th>3</th>\n",
              "      <td>United Kingdom</td>\n",
              "      <td>NaN</td>\n",
              "      <td>489597</td>\n",
              "      <td>1.70</td>\n",
              "      <td>22133</td>\n",
              "      <td>4.0</td>\n",
              "      <td>2017</td>\n",
              "      <td>11</td>\n",
              "      <td>28</td>\n",
              "      <td>NaN</td>\n",
              "      <td>NaN</td>\n",
              "      <td>NaN</td>\n",
              "    </tr>\n",
              "    <tr>\n",
              "      <th>4</th>\n",
              "      <td>United Kingdom</td>\n",
              "      <td>NaN</td>\n",
              "      <td>489597</td>\n",
              "      <td>0.87</td>\n",
              "      <td>22134</td>\n",
              "      <td>1.0</td>\n",
              "      <td>2017</td>\n",
              "      <td>11</td>\n",
              "      <td>28</td>\n",
              "      <td>NaN</td>\n",
              "      <td>NaN</td>\n",
              "      <td>NaN</td>\n",
              "    </tr>\n",
              "    <tr>\n",
              "      <th>...</th>\n",
              "      <td>...</td>\n",
              "      <td>...</td>\n",
              "      <td>...</td>\n",
              "      <td>...</td>\n",
              "      <td>...</td>\n",
              "      <td>...</td>\n",
              "      <td>...</td>\n",
              "      <td>...</td>\n",
              "      <td>...</td>\n",
              "      <td>...</td>\n",
              "      <td>...</td>\n",
              "      <td>...</td>\n",
              "    </tr>\n",
              "    <tr>\n",
              "      <th>35721</th>\n",
              "      <td>Spain</td>\n",
              "      <td>12539.0</td>\n",
              "      <td>493393</td>\n",
              "      <td>NaN</td>\n",
              "      <td>21928</td>\n",
              "      <td>10.0</td>\n",
              "      <td>2017</td>\n",
              "      <td>12</td>\n",
              "      <td>20</td>\n",
              "      <td>NaN</td>\n",
              "      <td>NaN</td>\n",
              "      <td>1.95</td>\n",
              "    </tr>\n",
              "    <tr>\n",
              "      <th>35722</th>\n",
              "      <td>Spain</td>\n",
              "      <td>12539.0</td>\n",
              "      <td>493393</td>\n",
              "      <td>NaN</td>\n",
              "      <td>22097</td>\n",
              "      <td>12.0</td>\n",
              "      <td>2017</td>\n",
              "      <td>12</td>\n",
              "      <td>20</td>\n",
              "      <td>NaN</td>\n",
              "      <td>NaN</td>\n",
              "      <td>1.25</td>\n",
              "    </tr>\n",
              "    <tr>\n",
              "      <th>35723</th>\n",
              "      <td>Spain</td>\n",
              "      <td>12539.0</td>\n",
              "      <td>493393</td>\n",
              "      <td>NaN</td>\n",
              "      <td>21929</td>\n",
              "      <td>10.0</td>\n",
              "      <td>2017</td>\n",
              "      <td>12</td>\n",
              "      <td>20</td>\n",
              "      <td>NaN</td>\n",
              "      <td>NaN</td>\n",
              "      <td>1.95</td>\n",
              "    </tr>\n",
              "    <tr>\n",
              "      <th>35724</th>\n",
              "      <td>Spain</td>\n",
              "      <td>12539.0</td>\n",
              "      <td>493393</td>\n",
              "      <td>NaN</td>\n",
              "      <td>22278</td>\n",
              "      <td>6.0</td>\n",
              "      <td>2017</td>\n",
              "      <td>12</td>\n",
              "      <td>20</td>\n",
              "      <td>NaN</td>\n",
              "      <td>NaN</td>\n",
              "      <td>4.95</td>\n",
              "    </tr>\n",
              "    <tr>\n",
              "      <th>35725</th>\n",
              "      <td>Spain</td>\n",
              "      <td>12539.0</td>\n",
              "      <td>493393</td>\n",
              "      <td>NaN</td>\n",
              "      <td>22276</td>\n",
              "      <td>6.0</td>\n",
              "      <td>2017</td>\n",
              "      <td>12</td>\n",
              "      <td>20</td>\n",
              "      <td>NaN</td>\n",
              "      <td>NaN</td>\n",
              "      <td>2.55</td>\n",
              "    </tr>\n",
              "  </tbody>\n",
              "</table>\n",
              "<p>45228 rows × 12 columns</p>\n",
              "</div>"
            ],
            "text/plain": [
              "              country  customer_id invoice  ...  StreamID TimesViewed  total_price\n",
              "0      United Kingdom      13085.0  489434  ...       NaN         NaN          NaN\n",
              "1      United Kingdom          NaN  489597  ...       NaN         NaN          NaN\n",
              "2      United Kingdom          NaN  489597  ...       NaN         NaN          NaN\n",
              "3      United Kingdom          NaN  489597  ...       NaN         NaN          NaN\n",
              "4      United Kingdom          NaN  489597  ...       NaN         NaN          NaN\n",
              "...               ...          ...     ...  ...       ...         ...          ...\n",
              "35721           Spain      12539.0  493393  ...       NaN         NaN         1.95\n",
              "35722           Spain      12539.0  493393  ...       NaN         NaN         1.25\n",
              "35723           Spain      12539.0  493393  ...       NaN         NaN         1.95\n",
              "35724           Spain      12539.0  493393  ...       NaN         NaN         4.95\n",
              "35725           Spain      12539.0  493393  ...       NaN         NaN         2.55\n",
              "\n",
              "[45228 rows x 12 columns]"
            ]
          },
          "metadata": {
            "tags": []
          },
          "execution_count": 5
        }
      ]
    },
    {
      "cell_type": "code",
      "metadata": {
        "id": "6JyQ6dwj5alc",
        "colab_type": "code",
        "outputId": "9a936fdc-b3d2-4253-dd8f-c205ed6af218",
        "colab": {
          "base_uri": "https://localhost:8080/",
          "height": 340
        }
      },
      "source": [
        "df.info()"
      ],
      "execution_count": 0,
      "outputs": [
        {
          "output_type": "stream",
          "text": [
            "<class 'pandas.core.frame.DataFrame'>\n",
            "Int64Index: 815011 entries, 0 to 33182\n",
            "Data columns (total 12 columns):\n",
            " #   Column        Non-Null Count   Dtype  \n",
            "---  ------        --------------   -----  \n",
            " 0   country       815011 non-null  object \n",
            " 1   customer_id   625249 non-null  float64\n",
            " 2   invoice       815011 non-null  object \n",
            " 3   price         654316 non-null  float64\n",
            " 4   stream_id     292297 non-null  object \n",
            " 5   times_viewed  292297 non-null  float64\n",
            " 6   year          815011 non-null  int64  \n",
            " 7   month         815011 non-null  int64  \n",
            " 8   day           815011 non-null  int64  \n",
            " 9   StreamID      522714 non-null  object \n",
            " 10  TimesViewed   522714 non-null  float64\n",
            " 11  total_price   160695 non-null  float64\n",
            "dtypes: float64(5), int64(3), object(4)\n",
            "memory usage: 80.8+ MB\n"
          ],
          "name": "stdout"
        }
      ]
    },
    {
      "cell_type": "code",
      "metadata": {
        "id": "DsgBJsXt5egi",
        "colab_type": "code",
        "outputId": "6265efa7-8932-4d6d-dd36-1cff89291b9d",
        "colab": {
          "base_uri": "https://localhost:8080/",
          "height": 238
        }
      },
      "source": [
        "df.isnull().sum()"
      ],
      "execution_count": 0,
      "outputs": [
        {
          "output_type": "execute_result",
          "data": {
            "text/plain": [
              "country              0\n",
              "customer_id     189762\n",
              "invoice              0\n",
              "price           160695\n",
              "stream_id       522714\n",
              "times_viewed    522714\n",
              "year                 0\n",
              "month                0\n",
              "day                  0\n",
              "StreamID        292297\n",
              "TimesViewed     292297\n",
              "total_price     654316\n",
              "dtype: int64"
            ]
          },
          "metadata": {
            "tags": []
          },
          "execution_count": 7
        }
      ]
    },
    {
      "cell_type": "code",
      "metadata": {
        "id": "f1Wb8GRZ72S9",
        "colab_type": "code",
        "outputId": "98a30075-b48a-41f5-a9e3-6ec47149882a",
        "colab": {
          "base_uri": "https://localhost:8080/",
          "height": 221
        }
      },
      "source": [
        "df.StreamID"
      ],
      "execution_count": 0,
      "outputs": [
        {
          "output_type": "execute_result",
          "data": {
            "text/plain": [
              "0          NaN\n",
              "1          NaN\n",
              "2          NaN\n",
              "3          NaN\n",
              "4          NaN\n",
              "         ...  \n",
              "33178    79029\n",
              "33179    21242\n",
              "33180    20677\n",
              "33181    20675\n",
              "33182    20676\n",
              "Name: StreamID, Length: 815011, dtype: object"
            ]
          },
          "metadata": {
            "tags": []
          },
          "execution_count": 8
        }
      ]
    },
    {
      "cell_type": "code",
      "metadata": {
        "id": "Pa2eEc9Q5h70",
        "colab_type": "code",
        "outputId": "6faa70e8-976d-4095-90e1-9d7871be988b",
        "colab": {
          "base_uri": "https://localhost:8080/",
          "height": 419
        }
      },
      "source": [
        "df.stream_id.fillna(df.StreamID,inplace=True)\n",
        "df.times_viewed.fillna(df.TimesViewed,inplace=True)\n",
        "df.price.fillna(df.total_price,inplace=True)\n",
        "df.drop(['StreamID','TimesViewed','total_price'],axis=1,inplace=True)\n",
        "df"
      ],
      "execution_count": 0,
      "outputs": [
        {
          "output_type": "execute_result",
          "data": {
            "text/html": [
              "<div>\n",
              "<style scoped>\n",
              "    .dataframe tbody tr th:only-of-type {\n",
              "        vertical-align: middle;\n",
              "    }\n",
              "\n",
              "    .dataframe tbody tr th {\n",
              "        vertical-align: top;\n",
              "    }\n",
              "\n",
              "    .dataframe thead th {\n",
              "        text-align: right;\n",
              "    }\n",
              "</style>\n",
              "<table border=\"1\" class=\"dataframe\">\n",
              "  <thead>\n",
              "    <tr style=\"text-align: right;\">\n",
              "      <th></th>\n",
              "      <th>country</th>\n",
              "      <th>customer_id</th>\n",
              "      <th>invoice</th>\n",
              "      <th>price</th>\n",
              "      <th>stream_id</th>\n",
              "      <th>times_viewed</th>\n",
              "      <th>year</th>\n",
              "      <th>month</th>\n",
              "      <th>day</th>\n",
              "    </tr>\n",
              "  </thead>\n",
              "  <tbody>\n",
              "    <tr>\n",
              "      <th>0</th>\n",
              "      <td>United Kingdom</td>\n",
              "      <td>17841.0</td>\n",
              "      <td>555562</td>\n",
              "      <td>1.95</td>\n",
              "      <td>22659</td>\n",
              "      <td>1.0</td>\n",
              "      <td>2019</td>\n",
              "      <td>6</td>\n",
              "      <td>2</td>\n",
              "    </tr>\n",
              "    <tr>\n",
              "      <th>1</th>\n",
              "      <td>United Kingdom</td>\n",
              "      <td>17841.0</td>\n",
              "      <td>555562</td>\n",
              "      <td>0.55</td>\n",
              "      <td>21975</td>\n",
              "      <td>5.0</td>\n",
              "      <td>2019</td>\n",
              "      <td>6</td>\n",
              "      <td>2</td>\n",
              "    </tr>\n",
              "    <tr>\n",
              "      <th>2</th>\n",
              "      <td>United Kingdom</td>\n",
              "      <td>17841.0</td>\n",
              "      <td>555562</td>\n",
              "      <td>0.83</td>\n",
              "      <td>23182</td>\n",
              "      <td>1.0</td>\n",
              "      <td>2019</td>\n",
              "      <td>6</td>\n",
              "      <td>2</td>\n",
              "    </tr>\n",
              "    <tr>\n",
              "      <th>3</th>\n",
              "      <td>United Kingdom</td>\n",
              "      <td>17841.0</td>\n",
              "      <td>555562</td>\n",
              "      <td>1.65</td>\n",
              "      <td>22136</td>\n",
              "      <td>1.0</td>\n",
              "      <td>2019</td>\n",
              "      <td>6</td>\n",
              "      <td>2</td>\n",
              "    </tr>\n",
              "    <tr>\n",
              "      <th>4</th>\n",
              "      <td>United Kingdom</td>\n",
              "      <td>17841.0</td>\n",
              "      <td>555562</td>\n",
              "      <td>2.95</td>\n",
              "      <td>22807</td>\n",
              "      <td>2.0</td>\n",
              "      <td>2019</td>\n",
              "      <td>6</td>\n",
              "      <td>2</td>\n",
              "    </tr>\n",
              "    <tr>\n",
              "      <th>...</th>\n",
              "      <td>...</td>\n",
              "      <td>...</td>\n",
              "      <td>...</td>\n",
              "      <td>...</td>\n",
              "      <td>...</td>\n",
              "      <td>...</td>\n",
              "      <td>...</td>\n",
              "      <td>...</td>\n",
              "      <td>...</td>\n",
              "    </tr>\n",
              "    <tr>\n",
              "      <th>33178</th>\n",
              "      <td>United Kingdom</td>\n",
              "      <td>16119.0</td>\n",
              "      <td>506696</td>\n",
              "      <td>1.95</td>\n",
              "      <td>79029</td>\n",
              "      <td>6.0</td>\n",
              "      <td>2018</td>\n",
              "      <td>4</td>\n",
              "      <td>29</td>\n",
              "    </tr>\n",
              "    <tr>\n",
              "      <th>33179</th>\n",
              "      <td>United Kingdom</td>\n",
              "      <td>17675.0</td>\n",
              "      <td>506697</td>\n",
              "      <td>1.69</td>\n",
              "      <td>21242</td>\n",
              "      <td>8.0</td>\n",
              "      <td>2018</td>\n",
              "      <td>4</td>\n",
              "      <td>29</td>\n",
              "    </tr>\n",
              "    <tr>\n",
              "      <th>33180</th>\n",
              "      <td>United Kingdom</td>\n",
              "      <td>17675.0</td>\n",
              "      <td>506697</td>\n",
              "      <td>1.25</td>\n",
              "      <td>20677</td>\n",
              "      <td>8.0</td>\n",
              "      <td>2018</td>\n",
              "      <td>4</td>\n",
              "      <td>29</td>\n",
              "    </tr>\n",
              "    <tr>\n",
              "      <th>33181</th>\n",
              "      <td>United Kingdom</td>\n",
              "      <td>17675.0</td>\n",
              "      <td>506697</td>\n",
              "      <td>1.25</td>\n",
              "      <td>20675</td>\n",
              "      <td>8.0</td>\n",
              "      <td>2018</td>\n",
              "      <td>4</td>\n",
              "      <td>29</td>\n",
              "    </tr>\n",
              "    <tr>\n",
              "      <th>33182</th>\n",
              "      <td>United Kingdom</td>\n",
              "      <td>17675.0</td>\n",
              "      <td>506697</td>\n",
              "      <td>1.25</td>\n",
              "      <td>20676</td>\n",
              "      <td>8.0</td>\n",
              "      <td>2018</td>\n",
              "      <td>4</td>\n",
              "      <td>29</td>\n",
              "    </tr>\n",
              "  </tbody>\n",
              "</table>\n",
              "<p>815011 rows × 9 columns</p>\n",
              "</div>"
            ],
            "text/plain": [
              "              country  customer_id invoice  ...  year month  day\n",
              "0      United Kingdom      17841.0  555562  ...  2019     6    2\n",
              "1      United Kingdom      17841.0  555562  ...  2019     6    2\n",
              "2      United Kingdom      17841.0  555562  ...  2019     6    2\n",
              "3      United Kingdom      17841.0  555562  ...  2019     6    2\n",
              "4      United Kingdom      17841.0  555562  ...  2019     6    2\n",
              "...               ...          ...     ...  ...   ...   ...  ...\n",
              "33178  United Kingdom      16119.0  506696  ...  2018     4   29\n",
              "33179  United Kingdom      17675.0  506697  ...  2018     4   29\n",
              "33180  United Kingdom      17675.0  506697  ...  2018     4   29\n",
              "33181  United Kingdom      17675.0  506697  ...  2018     4   29\n",
              "33182  United Kingdom      17675.0  506697  ...  2018     4   29\n",
              "\n",
              "[815011 rows x 9 columns]"
            ]
          },
          "metadata": {
            "tags": []
          },
          "execution_count": 9
        }
      ]
    },
    {
      "cell_type": "code",
      "metadata": {
        "id": "uWkUmFa27vop",
        "colab_type": "code",
        "colab": {}
      },
      "source": [
        "df['invoice_date']=(df.year.astype(str)+'-'+df.month.astype(str)+'-'+df.day.astype(str)).astype('datetime64')"
      ],
      "execution_count": 0,
      "outputs": []
    },
    {
      "cell_type": "code",
      "metadata": {
        "id": "LzYYgevp7bkd",
        "colab_type": "code",
        "outputId": "e9491cab-b372-4343-a51e-321897401476",
        "colab": {
          "base_uri": "https://localhost:8080/",
          "height": 419
        }
      },
      "source": [
        "df.sort_values('invoice_date',inplace=True)\n",
        "df.reset_index(drop=True,inplace=True)\n",
        "df"
      ],
      "execution_count": 0,
      "outputs": [
        {
          "output_type": "execute_result",
          "data": {
            "text/html": [
              "<div>\n",
              "<style scoped>\n",
              "    .dataframe tbody tr th:only-of-type {\n",
              "        vertical-align: middle;\n",
              "    }\n",
              "\n",
              "    .dataframe tbody tr th {\n",
              "        vertical-align: top;\n",
              "    }\n",
              "\n",
              "    .dataframe thead th {\n",
              "        text-align: right;\n",
              "    }\n",
              "</style>\n",
              "<table border=\"1\" class=\"dataframe\">\n",
              "  <thead>\n",
              "    <tr style=\"text-align: right;\">\n",
              "      <th></th>\n",
              "      <th>country</th>\n",
              "      <th>customer_id</th>\n",
              "      <th>invoice</th>\n",
              "      <th>price</th>\n",
              "      <th>stream_id</th>\n",
              "      <th>times_viewed</th>\n",
              "      <th>year</th>\n",
              "      <th>month</th>\n",
              "      <th>day</th>\n",
              "      <th>invoice_date</th>\n",
              "    </tr>\n",
              "  </thead>\n",
              "  <tbody>\n",
              "    <tr>\n",
              "      <th>0</th>\n",
              "      <td>United Kingdom</td>\n",
              "      <td>NaN</td>\n",
              "      <td>489609</td>\n",
              "      <td>4.00</td>\n",
              "      <td>M</td>\n",
              "      <td>1.0</td>\n",
              "      <td>2017</td>\n",
              "      <td>11</td>\n",
              "      <td>28</td>\n",
              "      <td>2017-11-28</td>\n",
              "    </tr>\n",
              "    <tr>\n",
              "      <th>1</th>\n",
              "      <td>United Kingdom</td>\n",
              "      <td>13085.0</td>\n",
              "      <td>489434</td>\n",
              "      <td>6.75</td>\n",
              "      <td>79323W</td>\n",
              "      <td>12.0</td>\n",
              "      <td>2017</td>\n",
              "      <td>11</td>\n",
              "      <td>28</td>\n",
              "      <td>2017-11-28</td>\n",
              "    </tr>\n",
              "    <tr>\n",
              "      <th>2</th>\n",
              "      <td>United Kingdom</td>\n",
              "      <td>13085.0</td>\n",
              "      <td>489434</td>\n",
              "      <td>2.10</td>\n",
              "      <td>22041</td>\n",
              "      <td>21.0</td>\n",
              "      <td>2017</td>\n",
              "      <td>11</td>\n",
              "      <td>28</td>\n",
              "      <td>2017-11-28</td>\n",
              "    </tr>\n",
              "    <tr>\n",
              "      <th>3</th>\n",
              "      <td>United Kingdom</td>\n",
              "      <td>13085.0</td>\n",
              "      <td>489434</td>\n",
              "      <td>1.25</td>\n",
              "      <td>21232</td>\n",
              "      <td>5.0</td>\n",
              "      <td>2017</td>\n",
              "      <td>11</td>\n",
              "      <td>28</td>\n",
              "      <td>2017-11-28</td>\n",
              "    </tr>\n",
              "    <tr>\n",
              "      <th>4</th>\n",
              "      <td>United Kingdom</td>\n",
              "      <td>13085.0</td>\n",
              "      <td>489434</td>\n",
              "      <td>1.65</td>\n",
              "      <td>22064</td>\n",
              "      <td>17.0</td>\n",
              "      <td>2017</td>\n",
              "      <td>11</td>\n",
              "      <td>28</td>\n",
              "      <td>2017-11-28</td>\n",
              "    </tr>\n",
              "    <tr>\n",
              "      <th>...</th>\n",
              "      <td>...</td>\n",
              "      <td>...</td>\n",
              "      <td>...</td>\n",
              "      <td>...</td>\n",
              "      <td>...</td>\n",
              "      <td>...</td>\n",
              "      <td>...</td>\n",
              "      <td>...</td>\n",
              "      <td>...</td>\n",
              "      <td>...</td>\n",
              "    </tr>\n",
              "    <tr>\n",
              "      <th>815006</th>\n",
              "      <td>United Kingdom</td>\n",
              "      <td>16098.0</td>\n",
              "      <td>562271</td>\n",
              "      <td>3.75</td>\n",
              "      <td>22730</td>\n",
              "      <td>4.0</td>\n",
              "      <td>2019</td>\n",
              "      <td>7</td>\n",
              "      <td>31</td>\n",
              "      <td>2019-07-31</td>\n",
              "    </tr>\n",
              "    <tr>\n",
              "      <th>815007</th>\n",
              "      <td>United Kingdom</td>\n",
              "      <td>16098.0</td>\n",
              "      <td>562271</td>\n",
              "      <td>3.75</td>\n",
              "      <td>22725</td>\n",
              "      <td>2.0</td>\n",
              "      <td>2019</td>\n",
              "      <td>7</td>\n",
              "      <td>31</td>\n",
              "      <td>2019-07-31</td>\n",
              "    </tr>\n",
              "    <tr>\n",
              "      <th>815008</th>\n",
              "      <td>United Kingdom</td>\n",
              "      <td>16098.0</td>\n",
              "      <td>562271</td>\n",
              "      <td>3.75</td>\n",
              "      <td>22726</td>\n",
              "      <td>12.0</td>\n",
              "      <td>2019</td>\n",
              "      <td>7</td>\n",
              "      <td>31</td>\n",
              "      <td>2019-07-31</td>\n",
              "    </tr>\n",
              "    <tr>\n",
              "      <th>815009</th>\n",
              "      <td>United Kingdom</td>\n",
              "      <td>14056.0</td>\n",
              "      <td>562269</td>\n",
              "      <td>1.65</td>\n",
              "      <td>22558</td>\n",
              "      <td>3.0</td>\n",
              "      <td>2019</td>\n",
              "      <td>7</td>\n",
              "      <td>31</td>\n",
              "      <td>2019-07-31</td>\n",
              "    </tr>\n",
              "    <tr>\n",
              "      <th>815010</th>\n",
              "      <td>United Kingdom</td>\n",
              "      <td>NaN</td>\n",
              "      <td>562264</td>\n",
              "      <td>5.79</td>\n",
              "      <td>22588</td>\n",
              "      <td>1.0</td>\n",
              "      <td>2019</td>\n",
              "      <td>7</td>\n",
              "      <td>31</td>\n",
              "      <td>2019-07-31</td>\n",
              "    </tr>\n",
              "  </tbody>\n",
              "</table>\n",
              "<p>815011 rows × 10 columns</p>\n",
              "</div>"
            ],
            "text/plain": [
              "               country  customer_id invoice  ...  month day  invoice_date\n",
              "0       United Kingdom          NaN  489609  ...     11  28    2017-11-28\n",
              "1       United Kingdom      13085.0  489434  ...     11  28    2017-11-28\n",
              "2       United Kingdom      13085.0  489434  ...     11  28    2017-11-28\n",
              "3       United Kingdom      13085.0  489434  ...     11  28    2017-11-28\n",
              "4       United Kingdom      13085.0  489434  ...     11  28    2017-11-28\n",
              "...                ...          ...     ...  ...    ...  ..           ...\n",
              "815006  United Kingdom      16098.0  562271  ...      7  31    2019-07-31\n",
              "815007  United Kingdom      16098.0  562271  ...      7  31    2019-07-31\n",
              "815008  United Kingdom      16098.0  562271  ...      7  31    2019-07-31\n",
              "815009  United Kingdom      14056.0  562269  ...      7  31    2019-07-31\n",
              "815010  United Kingdom          NaN  562264  ...      7  31    2019-07-31\n",
              "\n",
              "[815011 rows x 10 columns]"
            ]
          },
          "metadata": {
            "tags": []
          },
          "execution_count": 11
        }
      ]
    },
    {
      "cell_type": "code",
      "metadata": {
        "id": "-XkljhTNpf70",
        "colab_type": "code",
        "outputId": "75915db0-3351-4f95-a34c-149b8fee51bc",
        "colab": {
          "base_uri": "https://localhost:8080/",
          "height": 170
        }
      },
      "source": [
        "df.price.describe()"
      ],
      "execution_count": 0,
      "outputs": [
        {
          "output_type": "execute_result",
          "data": {
            "text/plain": [
              "count    815011.000000\n",
              "mean          4.802631\n",
              "std         135.058707\n",
              "min      -53594.360000\n",
              "25%           1.250000\n",
              "50%           2.100000\n",
              "75%           4.210000\n",
              "max       38970.000000\n",
              "Name: price, dtype: float64"
            ]
          },
          "metadata": {
            "tags": []
          },
          "execution_count": 12
        }
      ]
    },
    {
      "cell_type": "code",
      "metadata": {
        "id": "uLPkCMNepyme",
        "colab_type": "code",
        "outputId": "77a9cf9e-ffb7-4a97-9d45-d7af83168993",
        "colab": {
          "base_uri": "https://localhost:8080/",
          "height": 524
        }
      },
      "source": [
        "df=df.query('price>0')\n",
        "df.dropna(inplace=True)\n",
        "df"
      ],
      "execution_count": 0,
      "outputs": [
        {
          "output_type": "stream",
          "text": [
            "/usr/local/lib/python3.6/dist-packages/ipykernel_launcher.py:2: SettingWithCopyWarning: \n",
            "A value is trying to be set on a copy of a slice from a DataFrame\n",
            "\n",
            "See the caveats in the documentation: https://pandas.pydata.org/pandas-docs/stable/user_guide/indexing.html#returning-a-view-versus-a-copy\n",
            "  \n"
          ],
          "name": "stderr"
        },
        {
          "output_type": "execute_result",
          "data": {
            "text/html": [
              "<div>\n",
              "<style scoped>\n",
              "    .dataframe tbody tr th:only-of-type {\n",
              "        vertical-align: middle;\n",
              "    }\n",
              "\n",
              "    .dataframe tbody tr th {\n",
              "        vertical-align: top;\n",
              "    }\n",
              "\n",
              "    .dataframe thead th {\n",
              "        text-align: right;\n",
              "    }\n",
              "</style>\n",
              "<table border=\"1\" class=\"dataframe\">\n",
              "  <thead>\n",
              "    <tr style=\"text-align: right;\">\n",
              "      <th></th>\n",
              "      <th>country</th>\n",
              "      <th>customer_id</th>\n",
              "      <th>invoice</th>\n",
              "      <th>price</th>\n",
              "      <th>stream_id</th>\n",
              "      <th>times_viewed</th>\n",
              "      <th>year</th>\n",
              "      <th>month</th>\n",
              "      <th>day</th>\n",
              "      <th>invoice_date</th>\n",
              "    </tr>\n",
              "  </thead>\n",
              "  <tbody>\n",
              "    <tr>\n",
              "      <th>1</th>\n",
              "      <td>United Kingdom</td>\n",
              "      <td>13085.0</td>\n",
              "      <td>489434</td>\n",
              "      <td>6.75</td>\n",
              "      <td>79323W</td>\n",
              "      <td>12.0</td>\n",
              "      <td>2017</td>\n",
              "      <td>11</td>\n",
              "      <td>28</td>\n",
              "      <td>2017-11-28</td>\n",
              "    </tr>\n",
              "    <tr>\n",
              "      <th>2</th>\n",
              "      <td>United Kingdom</td>\n",
              "      <td>13085.0</td>\n",
              "      <td>489434</td>\n",
              "      <td>2.10</td>\n",
              "      <td>22041</td>\n",
              "      <td>21.0</td>\n",
              "      <td>2017</td>\n",
              "      <td>11</td>\n",
              "      <td>28</td>\n",
              "      <td>2017-11-28</td>\n",
              "    </tr>\n",
              "    <tr>\n",
              "      <th>3</th>\n",
              "      <td>United Kingdom</td>\n",
              "      <td>13085.0</td>\n",
              "      <td>489434</td>\n",
              "      <td>1.25</td>\n",
              "      <td>21232</td>\n",
              "      <td>5.0</td>\n",
              "      <td>2017</td>\n",
              "      <td>11</td>\n",
              "      <td>28</td>\n",
              "      <td>2017-11-28</td>\n",
              "    </tr>\n",
              "    <tr>\n",
              "      <th>4</th>\n",
              "      <td>United Kingdom</td>\n",
              "      <td>13085.0</td>\n",
              "      <td>489434</td>\n",
              "      <td>1.65</td>\n",
              "      <td>22064</td>\n",
              "      <td>17.0</td>\n",
              "      <td>2017</td>\n",
              "      <td>11</td>\n",
              "      <td>28</td>\n",
              "      <td>2017-11-28</td>\n",
              "    </tr>\n",
              "    <tr>\n",
              "      <th>5</th>\n",
              "      <td>United Kingdom</td>\n",
              "      <td>13085.0</td>\n",
              "      <td>489434</td>\n",
              "      <td>1.25</td>\n",
              "      <td>21871</td>\n",
              "      <td>14.0</td>\n",
              "      <td>2017</td>\n",
              "      <td>11</td>\n",
              "      <td>28</td>\n",
              "      <td>2017-11-28</td>\n",
              "    </tr>\n",
              "    <tr>\n",
              "      <th>...</th>\n",
              "      <td>...</td>\n",
              "      <td>...</td>\n",
              "      <td>...</td>\n",
              "      <td>...</td>\n",
              "      <td>...</td>\n",
              "      <td>...</td>\n",
              "      <td>...</td>\n",
              "      <td>...</td>\n",
              "      <td>...</td>\n",
              "      <td>...</td>\n",
              "    </tr>\n",
              "    <tr>\n",
              "      <th>815005</th>\n",
              "      <td>United Kingdom</td>\n",
              "      <td>16098.0</td>\n",
              "      <td>562271</td>\n",
              "      <td>9.95</td>\n",
              "      <td>23316</td>\n",
              "      <td>1.0</td>\n",
              "      <td>2019</td>\n",
              "      <td>7</td>\n",
              "      <td>31</td>\n",
              "      <td>2019-07-31</td>\n",
              "    </tr>\n",
              "    <tr>\n",
              "      <th>815006</th>\n",
              "      <td>United Kingdom</td>\n",
              "      <td>16098.0</td>\n",
              "      <td>562271</td>\n",
              "      <td>3.75</td>\n",
              "      <td>22730</td>\n",
              "      <td>4.0</td>\n",
              "      <td>2019</td>\n",
              "      <td>7</td>\n",
              "      <td>31</td>\n",
              "      <td>2019-07-31</td>\n",
              "    </tr>\n",
              "    <tr>\n",
              "      <th>815007</th>\n",
              "      <td>United Kingdom</td>\n",
              "      <td>16098.0</td>\n",
              "      <td>562271</td>\n",
              "      <td>3.75</td>\n",
              "      <td>22725</td>\n",
              "      <td>2.0</td>\n",
              "      <td>2019</td>\n",
              "      <td>7</td>\n",
              "      <td>31</td>\n",
              "      <td>2019-07-31</td>\n",
              "    </tr>\n",
              "    <tr>\n",
              "      <th>815008</th>\n",
              "      <td>United Kingdom</td>\n",
              "      <td>16098.0</td>\n",
              "      <td>562271</td>\n",
              "      <td>3.75</td>\n",
              "      <td>22726</td>\n",
              "      <td>12.0</td>\n",
              "      <td>2019</td>\n",
              "      <td>7</td>\n",
              "      <td>31</td>\n",
              "      <td>2019-07-31</td>\n",
              "    </tr>\n",
              "    <tr>\n",
              "      <th>815009</th>\n",
              "      <td>United Kingdom</td>\n",
              "      <td>14056.0</td>\n",
              "      <td>562269</td>\n",
              "      <td>1.65</td>\n",
              "      <td>22558</td>\n",
              "      <td>3.0</td>\n",
              "      <td>2019</td>\n",
              "      <td>7</td>\n",
              "      <td>31</td>\n",
              "      <td>2019-07-31</td>\n",
              "    </tr>\n",
              "  </tbody>\n",
              "</table>\n",
              "<p>625202 rows × 10 columns</p>\n",
              "</div>"
            ],
            "text/plain": [
              "               country  customer_id invoice  ...  month day  invoice_date\n",
              "1       United Kingdom      13085.0  489434  ...     11  28    2017-11-28\n",
              "2       United Kingdom      13085.0  489434  ...     11  28    2017-11-28\n",
              "3       United Kingdom      13085.0  489434  ...     11  28    2017-11-28\n",
              "4       United Kingdom      13085.0  489434  ...     11  28    2017-11-28\n",
              "5       United Kingdom      13085.0  489434  ...     11  28    2017-11-28\n",
              "...                ...          ...     ...  ...    ...  ..           ...\n",
              "815005  United Kingdom      16098.0  562271  ...      7  31    2019-07-31\n",
              "815006  United Kingdom      16098.0  562271  ...      7  31    2019-07-31\n",
              "815007  United Kingdom      16098.0  562271  ...      7  31    2019-07-31\n",
              "815008  United Kingdom      16098.0  562271  ...      7  31    2019-07-31\n",
              "815009  United Kingdom      14056.0  562269  ...      7  31    2019-07-31\n",
              "\n",
              "[625202 rows x 10 columns]"
            ]
          },
          "metadata": {
            "tags": []
          },
          "execution_count": 13
        }
      ]
    },
    {
      "cell_type": "markdown",
      "metadata": {
        "id": "FeYEK62x_Qs2",
        "colab_type": "text"
      },
      "source": [
        "## Part 3. Methodology <a name=\"methodology\"></a>\n",
        "\n",
        "First, the explortory analysis will be conducted to reveal the general information:\n",
        "* Assimilate the business scenario and articulate testable hypotheses.\n",
        "* State the ideal data to address the business opportunity and clarify the rationale for needing specific data.\n",
        "* Investigate the relationship between the relevant data, the target and the business metric.\n",
        "* Articulate your findings using a deliverable with visualizations. \n",
        "* Create a python script to extract relevant data from multiple data sources, automating the process of data ingestion.\n",
        "\n",
        "\n",
        "Second step in our analysis will focus on modelling:\n",
        "* State the different modeling approaches that you will compare to address the business opportunity.\n",
        "* Iterate on your suite of possible models by modifying data transformations, pipeline architectures, hyperparameters and other relevant factors.\n",
        "* Re-train your model on all of the data using the selected approach and prepare it for deployment.\n"
      ]
    },
    {
      "cell_type": "markdown",
      "metadata": {
        "id": "8FPwpQ3-8wGR",
        "colab_type": "text"
      },
      "source": [
        "## Part 4. EDA<a name=\"analysis\"></a>"
      ]
    },
    {
      "cell_type": "markdown",
      "metadata": {
        "id": "ja1no4tx86Wa",
        "colab_type": "text"
      },
      "source": [
        "####4.1 Top 10 Countries with highest revenue"
      ]
    },
    {
      "cell_type": "code",
      "metadata": {
        "id": "ejJQNreh5doj",
        "colab_type": "code",
        "outputId": "a7ef69d7-fda9-4ef7-fb66-d3a0d82737f4",
        "colab": {
          "base_uri": "https://localhost:8080/",
          "height": 390
        }
      },
      "source": [
        "table=pd.pivot_table(data=df,index='country',values='price',aggfunc='sum')\n",
        "table.columns=['Total Revenue']\n",
        "table.sort_values('Total Revenue',inplace=True)\n",
        "table=table.tail(10)\n",
        "top_countries=table.index\n",
        "table"
      ],
      "execution_count": 0,
      "outputs": [
        {
          "output_type": "execute_result",
          "data": {
            "text/html": [
              "<div>\n",
              "<style scoped>\n",
              "    .dataframe tbody tr th:only-of-type {\n",
              "        vertical-align: middle;\n",
              "    }\n",
              "\n",
              "    .dataframe tbody tr th {\n",
              "        vertical-align: top;\n",
              "    }\n",
              "\n",
              "    .dataframe thead th {\n",
              "        text-align: right;\n",
              "    }\n",
              "</style>\n",
              "<table border=\"1\" class=\"dataframe\">\n",
              "  <thead>\n",
              "    <tr style=\"text-align: right;\">\n",
              "      <th></th>\n",
              "      <th>Total Revenue</th>\n",
              "    </tr>\n",
              "    <tr>\n",
              "      <th>country</th>\n",
              "      <th></th>\n",
              "    </tr>\n",
              "  </thead>\n",
              "  <tbody>\n",
              "    <tr>\n",
              "      <th>Belgium</th>\n",
              "      <td>1.119061e+04</td>\n",
              "    </tr>\n",
              "    <tr>\n",
              "      <th>Netherlands</th>\n",
              "      <td>1.232280e+04</td>\n",
              "    </tr>\n",
              "    <tr>\n",
              "      <th>Singapore</th>\n",
              "      <td>1.317592e+04</td>\n",
              "    </tr>\n",
              "    <tr>\n",
              "      <th>Portugal</th>\n",
              "      <td>1.328929e+04</td>\n",
              "    </tr>\n",
              "    <tr>\n",
              "      <th>Spain</th>\n",
              "      <td>1.604099e+04</td>\n",
              "    </tr>\n",
              "    <tr>\n",
              "      <th>Norway</th>\n",
              "      <td>3.849475e+04</td>\n",
              "    </tr>\n",
              "    <tr>\n",
              "      <th>France</th>\n",
              "      <td>4.039552e+04</td>\n",
              "    </tr>\n",
              "    <tr>\n",
              "      <th>Germany</th>\n",
              "      <td>4.927182e+04</td>\n",
              "    </tr>\n",
              "    <tr>\n",
              "      <th>EIRE</th>\n",
              "      <td>9.243843e+04</td>\n",
              "    </tr>\n",
              "    <tr>\n",
              "      <th>United Kingdom</th>\n",
              "      <td>2.037149e+06</td>\n",
              "    </tr>\n",
              "  </tbody>\n",
              "</table>\n",
              "</div>"
            ],
            "text/plain": [
              "                Total Revenue\n",
              "country                      \n",
              "Belgium          1.119061e+04\n",
              "Netherlands      1.232280e+04\n",
              "Singapore        1.317592e+04\n",
              "Portugal         1.328929e+04\n",
              "Spain            1.604099e+04\n",
              "Norway           3.849475e+04\n",
              "France           4.039552e+04\n",
              "Germany          4.927182e+04\n",
              "EIRE             9.243843e+04\n",
              "United Kingdom   2.037149e+06"
            ]
          },
          "metadata": {
            "tags": []
          },
          "execution_count": 14
        }
      ]
    },
    {
      "cell_type": "code",
      "metadata": {
        "id": "BsAcWgA7DKym",
        "colab_type": "code",
        "outputId": "95231ff4-9773-45b6-c367-61fe61d42cf4",
        "colab": {
          "base_uri": "https://localhost:8080/",
          "height": 187
        }
      },
      "source": [
        "top_countries=table.index.to_list()\n",
        "top_countries"
      ],
      "execution_count": 0,
      "outputs": [
        {
          "output_type": "execute_result",
          "data": {
            "text/plain": [
              "['Belgium',\n",
              " 'Netherlands',\n",
              " 'Singapore',\n",
              " 'Portugal',\n",
              " 'Spain',\n",
              " 'Norway',\n",
              " 'France',\n",
              " 'Germany',\n",
              " 'EIRE',\n",
              " 'United Kingdom']"
            ]
          },
          "metadata": {
            "tags": []
          },
          "execution_count": 15
        }
      ]
    },
    {
      "cell_type": "code",
      "metadata": {
        "id": "p9NhhAcP9ngK",
        "colab_type": "code",
        "outputId": "d9c8bb8f-b880-4a22-b74a-0b22cbf84e83",
        "colab": {
          "base_uri": "https://localhost:8080/",
          "height": 345
        }
      },
      "source": [
        "table.plot.barh(figsize=(10,5))\n",
        "plt.title('Top 10 countries with highest revenue')\n",
        "plt.xscale('log')\n",
        "plt.xlabel('')\n",
        "plt.ylabel('')\n",
        "for i,index in enumerate(list(table.index)):\n",
        "  label=(table.loc[index,'Total Revenue']).astype(int)\n",
        "  plt.annotate(label,(label,i-0.1))\n"
      ],
      "execution_count": 0,
      "outputs": [
        {
          "output_type": "display_data",
          "data": {
            "image/png": "[encoded data removed]",
            "text/plain": [
              "<Figure size 720x360 with 1 Axes>"
            ]
          },
          "metadata": {
            "tags": [],
            "needs_background": "light"
          }
        }
      ]
    },
    {
      "cell_type": "code",
      "metadata": {
        "id": "LVqWCGyFGrSA",
        "colab_type": "code",
        "colab": {}
      },
      "source": [
        "df_top10=df[df.country.isin(top_countries)]\n",
        "table=df_top10.groupby(['country','year'])['price'].sum().reset_index()"
      ],
      "execution_count": 0,
      "outputs": []
    },
    {
      "cell_type": "code",
      "metadata": {
        "id": "BxLCcweTE3uF",
        "colab_type": "code",
        "outputId": "e5f759c4-c261-41a3-dd4a-530628114fed",
        "colab": {
          "base_uri": "https://localhost:8080/",
          "height": 355
        }
      },
      "source": [
        "plt.figure(figsize=(15,5))\n",
        "sns.barplot(data=table,x='country',y='price',hue='year')\n",
        "plt.yscale('log')\n",
        "plt.xlabel('')\n",
        "plt.ylabel('Revenue')\n",
        "plt.title('Top 10 countries with highest revenue')\n",
        "\n"
      ],
      "execution_count": 0,
      "outputs": [
        {
          "output_type": "execute_result",
          "data": {
            "text/plain": [
              "Text(0.5, 1.0, 'Top 10 countries with highest revenue')"
            ]
          },
          "metadata": {
            "tags": []
          },
          "execution_count": 18
        },
        {
          "output_type": "display_data",
          "data": {
            "image/png": "[encoded data removed]",
            "text/plain": [
              "<Figure size 1080x360 with 1 Axes>"
            ]
          },
          "metadata": {
            "tags": [],
            "needs_background": "light"
          }
        }
      ]
    },
    {
      "cell_type": "markdown",
      "metadata": {
        "id": "dTfEBZkCM5Cc",
        "colab_type": "text"
      },
      "source": [
        "* It is clear that the revenue from almost all top 10 countries declined since 2018 except for Portugal, Singapore and Spain. Then which countries' revenue has raised?\n"
      ]
    },
    {
      "cell_type": "markdown",
      "metadata": {
        "id": "NHfPxdprNheE",
        "colab_type": "text"
      },
      "source": [
        "####4.2 Countries where the revenue has incresed since 2018"
      ]
    },
    {
      "cell_type": "code",
      "metadata": {
        "id": "xPwR9gj3R1g8",
        "colab_type": "code",
        "colab": {}
      },
      "source": [
        "countries_2019=df.query('year==2019').country.to_list()\n",
        "countries_2018=df.query('year==2018').country.to_list()\n",
        "df_2019=df[df.country.isin(countries_2019) & df.country.isin(countries_2018)]"
      ],
      "execution_count": 0,
      "outputs": []
    },
    {
      "cell_type": "code",
      "metadata": {
        "id": "HkVVOkCuF8SW",
        "colab_type": "code",
        "outputId": "4f3927c3-9fb1-43d4-9f86-36bb039d61e3",
        "colab": {
          "base_uri": "https://localhost:8080/",
          "height": 450
        }
      },
      "source": [
        "df_diff=pd.pivot_table(data=df_2019.query('year!=2017'),index=(['year','country']),values='price',aggfunc='sum')\n",
        "df_diff.columns=['Total_Revenue']\n",
        "df_diff"
      ],
      "execution_count": 0,
      "outputs": [
        {
          "output_type": "execute_result",
          "data": {
            "text/html": [
              "<div>\n",
              "<style scoped>\n",
              "    .dataframe tbody tr th:only-of-type {\n",
              "        vertical-align: middle;\n",
              "    }\n",
              "\n",
              "    .dataframe tbody tr th {\n",
              "        vertical-align: top;\n",
              "    }\n",
              "\n",
              "    .dataframe thead th {\n",
              "        text-align: right;\n",
              "    }\n",
              "</style>\n",
              "<table border=\"1\" class=\"dataframe\">\n",
              "  <thead>\n",
              "    <tr style=\"text-align: right;\">\n",
              "      <th></th>\n",
              "      <th></th>\n",
              "      <th>Total_Revenue</th>\n",
              "    </tr>\n",
              "    <tr>\n",
              "      <th>year</th>\n",
              "      <th>country</th>\n",
              "      <th></th>\n",
              "    </tr>\n",
              "  </thead>\n",
              "  <tbody>\n",
              "    <tr>\n",
              "      <th rowspan=\"5\" valign=\"top\">2018</th>\n",
              "      <th>Australia</th>\n",
              "      <td>4140.330</td>\n",
              "    </tr>\n",
              "    <tr>\n",
              "      <th>Austria</th>\n",
              "      <td>2356.520</td>\n",
              "    </tr>\n",
              "    <tr>\n",
              "      <th>Bahrain</th>\n",
              "      <td>91.560</td>\n",
              "    </tr>\n",
              "    <tr>\n",
              "      <th>Belgium</th>\n",
              "      <td>7291.000</td>\n",
              "    </tr>\n",
              "    <tr>\n",
              "      <th>Brazil</th>\n",
              "      <td>113.710</td>\n",
              "    </tr>\n",
              "    <tr>\n",
              "      <th>...</th>\n",
              "      <th>...</th>\n",
              "      <td>...</td>\n",
              "    </tr>\n",
              "    <tr>\n",
              "      <th rowspan=\"5\" valign=\"top\">2019</th>\n",
              "      <th>Switzerland</th>\n",
              "      <td>3793.330</td>\n",
              "    </tr>\n",
              "    <tr>\n",
              "      <th>USA</th>\n",
              "      <td>74.200</td>\n",
              "    </tr>\n",
              "    <tr>\n",
              "      <th>United Arab Emirates</th>\n",
              "      <td>77.570</td>\n",
              "    </tr>\n",
              "    <tr>\n",
              "      <th>United Kingdom</th>\n",
              "      <td>573384.352</td>\n",
              "    </tr>\n",
              "    <tr>\n",
              "      <th>Unspecified</th>\n",
              "      <td>634.490</td>\n",
              "    </tr>\n",
              "  </tbody>\n",
              "</table>\n",
              "<p>62 rows × 1 columns</p>\n",
              "</div>"
            ],
            "text/plain": [
              "                           Total_Revenue\n",
              "year country                            \n",
              "2018 Australia                  4140.330\n",
              "     Austria                    2356.520\n",
              "     Bahrain                      91.560\n",
              "     Belgium                    7291.000\n",
              "     Brazil                      113.710\n",
              "...                                  ...\n",
              "2019 Switzerland                3793.330\n",
              "     USA                          74.200\n",
              "     United Arab Emirates         77.570\n",
              "     United Kingdom           573384.352\n",
              "     Unspecified                 634.490\n",
              "\n",
              "[62 rows x 1 columns]"
            ]
          },
          "metadata": {
            "tags": []
          },
          "execution_count": 20
        }
      ]
    },
    {
      "cell_type": "code",
      "metadata": {
        "id": "31bxfSxEO4RP",
        "colab_type": "code",
        "outputId": "4c4c6843-bdce-4e10-ff47-8dd104f0dcee",
        "colab": {
          "base_uri": "https://localhost:8080/",
          "height": 34
        }
      },
      "source": [
        "df_diff.reset_index().country.nunique()"
      ],
      "execution_count": 0,
      "outputs": [
        {
          "output_type": "execute_result",
          "data": {
            "text/plain": [
              "31"
            ]
          },
          "metadata": {
            "tags": []
          },
          "execution_count": 21
        }
      ]
    },
    {
      "cell_type": "code",
      "metadata": {
        "id": "2rbJVWDBVsJJ",
        "colab_type": "code",
        "outputId": "6d82b728-0542-41c0-9c7b-18b0f6b3b4de",
        "colab": {
          "base_uri": "https://localhost:8080/",
          "height": 419
        }
      },
      "source": [
        "df_diff.reset_index(inplace=True)\n",
        "df_diff"
      ],
      "execution_count": 0,
      "outputs": [
        {
          "output_type": "execute_result",
          "data": {
            "text/html": [
              "<div>\n",
              "<style scoped>\n",
              "    .dataframe tbody tr th:only-of-type {\n",
              "        vertical-align: middle;\n",
              "    }\n",
              "\n",
              "    .dataframe tbody tr th {\n",
              "        vertical-align: top;\n",
              "    }\n",
              "\n",
              "    .dataframe thead th {\n",
              "        text-align: right;\n",
              "    }\n",
              "</style>\n",
              "<table border=\"1\" class=\"dataframe\">\n",
              "  <thead>\n",
              "    <tr style=\"text-align: right;\">\n",
              "      <th></th>\n",
              "      <th>year</th>\n",
              "      <th>country</th>\n",
              "      <th>Total_Revenue</th>\n",
              "    </tr>\n",
              "  </thead>\n",
              "  <tbody>\n",
              "    <tr>\n",
              "      <th>0</th>\n",
              "      <td>2018</td>\n",
              "      <td>Australia</td>\n",
              "      <td>4140.330</td>\n",
              "    </tr>\n",
              "    <tr>\n",
              "      <th>1</th>\n",
              "      <td>2018</td>\n",
              "      <td>Austria</td>\n",
              "      <td>2356.520</td>\n",
              "    </tr>\n",
              "    <tr>\n",
              "      <th>2</th>\n",
              "      <td>2018</td>\n",
              "      <td>Bahrain</td>\n",
              "      <td>91.560</td>\n",
              "    </tr>\n",
              "    <tr>\n",
              "      <th>3</th>\n",
              "      <td>2018</td>\n",
              "      <td>Belgium</td>\n",
              "      <td>7291.000</td>\n",
              "    </tr>\n",
              "    <tr>\n",
              "      <th>4</th>\n",
              "      <td>2018</td>\n",
              "      <td>Brazil</td>\n",
              "      <td>113.710</td>\n",
              "    </tr>\n",
              "    <tr>\n",
              "      <th>...</th>\n",
              "      <td>...</td>\n",
              "      <td>...</td>\n",
              "      <td>...</td>\n",
              "    </tr>\n",
              "    <tr>\n",
              "      <th>57</th>\n",
              "      <td>2019</td>\n",
              "      <td>Switzerland</td>\n",
              "      <td>3793.330</td>\n",
              "    </tr>\n",
              "    <tr>\n",
              "      <th>58</th>\n",
              "      <td>2019</td>\n",
              "      <td>USA</td>\n",
              "      <td>74.200</td>\n",
              "    </tr>\n",
              "    <tr>\n",
              "      <th>59</th>\n",
              "      <td>2019</td>\n",
              "      <td>United Arab Emirates</td>\n",
              "      <td>77.570</td>\n",
              "    </tr>\n",
              "    <tr>\n",
              "      <th>60</th>\n",
              "      <td>2019</td>\n",
              "      <td>United Kingdom</td>\n",
              "      <td>573384.352</td>\n",
              "    </tr>\n",
              "    <tr>\n",
              "      <th>61</th>\n",
              "      <td>2019</td>\n",
              "      <td>Unspecified</td>\n",
              "      <td>634.490</td>\n",
              "    </tr>\n",
              "  </tbody>\n",
              "</table>\n",
              "<p>62 rows × 3 columns</p>\n",
              "</div>"
            ],
            "text/plain": [
              "    year               country  Total_Revenue\n",
              "0   2018             Australia       4140.330\n",
              "1   2018               Austria       2356.520\n",
              "2   2018               Bahrain         91.560\n",
              "3   2018               Belgium       7291.000\n",
              "4   2018                Brazil        113.710\n",
              "..   ...                   ...            ...\n",
              "57  2019           Switzerland       3793.330\n",
              "58  2019                   USA         74.200\n",
              "59  2019  United Arab Emirates         77.570\n",
              "60  2019        United Kingdom     573384.352\n",
              "61  2019           Unspecified        634.490\n",
              "\n",
              "[62 rows x 3 columns]"
            ]
          },
          "metadata": {
            "tags": []
          },
          "execution_count": 22
        }
      ]
    },
    {
      "cell_type": "code",
      "metadata": {
        "id": "rwJKfkFnV4py",
        "colab_type": "code",
        "colab": {}
      },
      "source": [
        "list_reve_diff=df_diff.Total_Revenue.pct_change(periods=31)[31:]\n",
        "list_country=df_diff.country.unique()"
      ],
      "execution_count": 0,
      "outputs": []
    },
    {
      "cell_type": "code",
      "metadata": {
        "id": "Tq_9ZiVdWWWu",
        "colab_type": "code",
        "outputId": "3201385d-037a-4449-8848-a927dfd9bc5f",
        "colab": {
          "base_uri": "https://localhost:8080/",
          "height": 359
        }
      },
      "source": [
        "d = {'country': list_country , 'diff': list_reve_diff}\n",
        "df_diff = pd.DataFrame(data=d)\n",
        "df_diff=df_diff.query('diff>0').sort_values('diff')\n",
        "df_diff.set_index(['country'],inplace=True)\n",
        "df_diff"
      ],
      "execution_count": 0,
      "outputs": [
        {
          "output_type": "execute_result",
          "data": {
            "text/html": [
              "<div>\n",
              "<style scoped>\n",
              "    .dataframe tbody tr th:only-of-type {\n",
              "        vertical-align: middle;\n",
              "    }\n",
              "\n",
              "    .dataframe tbody tr th {\n",
              "        vertical-align: top;\n",
              "    }\n",
              "\n",
              "    .dataframe thead th {\n",
              "        text-align: right;\n",
              "    }\n",
              "</style>\n",
              "<table border=\"1\" class=\"dataframe\">\n",
              "  <thead>\n",
              "    <tr style=\"text-align: right;\">\n",
              "      <th></th>\n",
              "      <th>diff</th>\n",
              "    </tr>\n",
              "    <tr>\n",
              "      <th>country</th>\n",
              "      <th></th>\n",
              "    </tr>\n",
              "  </thead>\n",
              "  <tbody>\n",
              "    <tr>\n",
              "      <th>Iceland</th>\n",
              "      <td>0.018928</td>\n",
              "    </tr>\n",
              "    <tr>\n",
              "      <th>Spain</th>\n",
              "      <td>0.078321</td>\n",
              "    </tr>\n",
              "    <tr>\n",
              "      <th>Brazil</th>\n",
              "      <td>0.254067</td>\n",
              "    </tr>\n",
              "    <tr>\n",
              "      <th>Finland</th>\n",
              "      <td>0.290929</td>\n",
              "    </tr>\n",
              "    <tr>\n",
              "      <th>Cyprus</th>\n",
              "      <td>0.374995</td>\n",
              "    </tr>\n",
              "    <tr>\n",
              "      <th>Poland</th>\n",
              "      <td>0.960242</td>\n",
              "    </tr>\n",
              "    <tr>\n",
              "      <th>Portugal</th>\n",
              "      <td>1.206347</td>\n",
              "    </tr>\n",
              "    <tr>\n",
              "      <th>Canada</th>\n",
              "      <td>5.139177</td>\n",
              "    </tr>\n",
              "    <tr>\n",
              "      <th>Singapore</th>\n",
              "      <td>33.370648</td>\n",
              "    </tr>\n",
              "  </tbody>\n",
              "</table>\n",
              "</div>"
            ],
            "text/plain": [
              "                diff\n",
              "country             \n",
              "Iceland     0.018928\n",
              "Spain       0.078321\n",
              "Brazil      0.254067\n",
              "Finland     0.290929\n",
              "Cyprus      0.374995\n",
              "Poland      0.960242\n",
              "Portugal    1.206347\n",
              "Canada      5.139177\n",
              "Singapore  33.370648"
            ]
          },
          "metadata": {
            "tags": []
          },
          "execution_count": 24
        }
      ]
    },
    {
      "cell_type": "code",
      "metadata": {
        "id": "mvAoOPVRaW4C",
        "colab_type": "code",
        "outputId": "df87c8c7-891b-410f-c52a-76486d83c025",
        "colab": {
          "base_uri": "https://localhost:8080/",
          "height": 355
        }
      },
      "source": [
        "df_diff.plot.barh(figsize=(10,5))\n",
        "plt.title('Countries with the increased revenue in 2019')\n",
        "plt.xlabel('Percentage of Change %')\n",
        "plt.ylabel('')\n",
        "plt.legend().remove()\n",
        "for i,index in enumerate(list(df_diff.index)):\n",
        "  label=round((df_diff.loc[index,'diff']),2)\n",
        "  plt.annotate(label,(label,i-0.1))\n"
      ],
      "execution_count": 0,
      "outputs": [
        {
          "output_type": "display_data",
          "data": {
            "image/png": "[encoded data removed]",
            "text/plain": [
              "<Figure size 720x360 with 1 Axes>"
            ]
          },
          "metadata": {
            "tags": [],
            "needs_background": "light"
          }
        }
      ]
    },
    {
      "cell_type": "markdown",
      "metadata": {
        "id": "toKto6S2kAvA",
        "colab_type": "text"
      },
      "source": [
        "* It is clear that the revenue in 9 countries has increased since 2018 and three of them are among the top 10 countries with the highest revenue which are Portugal, Singapore and Spain"
      ]
    },
    {
      "cell_type": "code",
      "metadata": {
        "id": "0X8o5jM4n4fo",
        "colab_type": "code",
        "outputId": "6152d549-5346-4891-bc0f-4c49aba0a967",
        "colab": {
          "base_uri": "https://localhost:8080/",
          "height": 327
        }
      },
      "source": [
        "df_days_purchase=pd.DataFrame({'Country':['Singapore','Canada','Portugal'],\n",
        "                               'Days':[df.query(\"country=='Singapore'\").invoice_date.nunique(),\n",
        "                                       df.query(\"country=='Canada'\").invoice_date.nunique(),\n",
        "                                       df.query(\"country=='Portugal'\").invoice_date.nunique()]})\n",
        "df_days_purchase.set_index('Country',inplace=True)\n",
        "df_days_purchase.plot.bar()\n",
        "plt.xlabel('')\n",
        "plt.ylabel('Days with the purchase')\n",
        "plt.xticks(rotation=30)\n",
        "plt.title('Days with purchase')"
      ],
      "execution_count": 0,
      "outputs": [
        {
          "output_type": "execute_result",
          "data": {
            "text/plain": [
              "Text(0.5, 1.0, 'Days with purchase')"
            ]
          },
          "metadata": {
            "tags": []
          },
          "execution_count": 26
        },
        {
          "output_type": "display_data",
          "data": {
            "image/png": "[encoded data removed]",
            "text/plain": [
              "<Figure size 432x288 with 1 Axes>"
            ]
          },
          "metadata": {
            "tags": [],
            "needs_background": "light"
          }
        }
      ]
    },
    {
      "cell_type": "markdown",
      "metadata": {
        "id": "h1tzZDGRtU9n",
        "colab_type": "text"
      },
      "source": [
        "The reasons why the countreis revenue increased is because there is not enough purchase in these countries. "
      ]
    },
    {
      "cell_type": "markdown",
      "metadata": {
        "id": "JxL9Vqytk2oR",
        "colab_type": "text"
      },
      "source": [
        "####4.3 The price change of the top 10 popular streams around the world"
      ]
    },
    {
      "cell_type": "code",
      "metadata": {
        "id": "zGxyw7AagbVe",
        "colab_type": "code",
        "outputId": "052291ab-062e-499c-8ecf-80326a519c9b",
        "colab": {
          "base_uri": "https://localhost:8080/",
          "height": 204
        }
      },
      "source": [
        "df.head()"
      ],
      "execution_count": 0,
      "outputs": [
        {
          "output_type": "execute_result",
          "data": {
            "text/html": [
              "<div>\n",
              "<style scoped>\n",
              "    .dataframe tbody tr th:only-of-type {\n",
              "        vertical-align: middle;\n",
              "    }\n",
              "\n",
              "    .dataframe tbody tr th {\n",
              "        vertical-align: top;\n",
              "    }\n",
              "\n",
              "    .dataframe thead th {\n",
              "        text-align: right;\n",
              "    }\n",
              "</style>\n",
              "<table border=\"1\" class=\"dataframe\">\n",
              "  <thead>\n",
              "    <tr style=\"text-align: right;\">\n",
              "      <th></th>\n",
              "      <th>country</th>\n",
              "      <th>customer_id</th>\n",
              "      <th>invoice</th>\n",
              "      <th>price</th>\n",
              "      <th>stream_id</th>\n",
              "      <th>times_viewed</th>\n",
              "      <th>year</th>\n",
              "      <th>month</th>\n",
              "      <th>day</th>\n",
              "      <th>invoice_date</th>\n",
              "    </tr>\n",
              "  </thead>\n",
              "  <tbody>\n",
              "    <tr>\n",
              "      <th>1</th>\n",
              "      <td>United Kingdom</td>\n",
              "      <td>13085.0</td>\n",
              "      <td>489434</td>\n",
              "      <td>6.75</td>\n",
              "      <td>79323W</td>\n",
              "      <td>12.0</td>\n",
              "      <td>2017</td>\n",
              "      <td>11</td>\n",
              "      <td>28</td>\n",
              "      <td>2017-11-28</td>\n",
              "    </tr>\n",
              "    <tr>\n",
              "      <th>2</th>\n",
              "      <td>United Kingdom</td>\n",
              "      <td>13085.0</td>\n",
              "      <td>489434</td>\n",
              "      <td>2.10</td>\n",
              "      <td>22041</td>\n",
              "      <td>21.0</td>\n",
              "      <td>2017</td>\n",
              "      <td>11</td>\n",
              "      <td>28</td>\n",
              "      <td>2017-11-28</td>\n",
              "    </tr>\n",
              "    <tr>\n",
              "      <th>3</th>\n",
              "      <td>United Kingdom</td>\n",
              "      <td>13085.0</td>\n",
              "      <td>489434</td>\n",
              "      <td>1.25</td>\n",
              "      <td>21232</td>\n",
              "      <td>5.0</td>\n",
              "      <td>2017</td>\n",
              "      <td>11</td>\n",
              "      <td>28</td>\n",
              "      <td>2017-11-28</td>\n",
              "    </tr>\n",
              "    <tr>\n",
              "      <th>4</th>\n",
              "      <td>United Kingdom</td>\n",
              "      <td>13085.0</td>\n",
              "      <td>489434</td>\n",
              "      <td>1.65</td>\n",
              "      <td>22064</td>\n",
              "      <td>17.0</td>\n",
              "      <td>2017</td>\n",
              "      <td>11</td>\n",
              "      <td>28</td>\n",
              "      <td>2017-11-28</td>\n",
              "    </tr>\n",
              "    <tr>\n",
              "      <th>5</th>\n",
              "      <td>United Kingdom</td>\n",
              "      <td>13085.0</td>\n",
              "      <td>489434</td>\n",
              "      <td>1.25</td>\n",
              "      <td>21871</td>\n",
              "      <td>14.0</td>\n",
              "      <td>2017</td>\n",
              "      <td>11</td>\n",
              "      <td>28</td>\n",
              "      <td>2017-11-28</td>\n",
              "    </tr>\n",
              "  </tbody>\n",
              "</table>\n",
              "</div>"
            ],
            "text/plain": [
              "          country  customer_id invoice  price  ...  year  month  day  invoice_date\n",
              "1  United Kingdom      13085.0  489434   6.75  ...  2017     11   28    2017-11-28\n",
              "2  United Kingdom      13085.0  489434   2.10  ...  2017     11   28    2017-11-28\n",
              "3  United Kingdom      13085.0  489434   1.25  ...  2017     11   28    2017-11-28\n",
              "4  United Kingdom      13085.0  489434   1.65  ...  2017     11   28    2017-11-28\n",
              "5  United Kingdom      13085.0  489434   1.25  ...  2017     11   28    2017-11-28\n",
              "\n",
              "[5 rows x 10 columns]"
            ]
          },
          "metadata": {
            "tags": []
          },
          "execution_count": 27
        }
      ]
    },
    {
      "cell_type": "code",
      "metadata": {
        "id": "1QnQsHDQk1T9",
        "colab_type": "code",
        "outputId": "4bbc2e7d-edc8-4dd3-b228-18de54240680",
        "colab": {
          "base_uri": "https://localhost:8080/",
          "height": 359
        }
      },
      "source": [
        "#Top 10 popular streams around the world\n",
        "df_t10_st_w=df.groupby('stream_id')['times_viewed'].sum().reset_index().sort_values('times_viewed',ascending=False).head(10).reset_index(drop=True)\n",
        "list_t10_st_w=df_t10_st_w.stream_id.to_list()\n",
        "df_t10_st_w"
      ],
      "execution_count": 0,
      "outputs": [
        {
          "output_type": "execute_result",
          "data": {
            "text/html": [
              "<div>\n",
              "<style scoped>\n",
              "    .dataframe tbody tr th:only-of-type {\n",
              "        vertical-align: middle;\n",
              "    }\n",
              "\n",
              "    .dataframe tbody tr th {\n",
              "        vertical-align: top;\n",
              "    }\n",
              "\n",
              "    .dataframe thead th {\n",
              "        text-align: right;\n",
              "    }\n",
              "</style>\n",
              "<table border=\"1\" class=\"dataframe\">\n",
              "  <thead>\n",
              "    <tr style=\"text-align: right;\">\n",
              "      <th></th>\n",
              "      <th>stream_id</th>\n",
              "      <th>times_viewed</th>\n",
              "    </tr>\n",
              "  </thead>\n",
              "  <tbody>\n",
              "    <tr>\n",
              "      <th>0</th>\n",
              "      <td>85123A</td>\n",
              "      <td>33702.0</td>\n",
              "    </tr>\n",
              "    <tr>\n",
              "      <th>1</th>\n",
              "      <td>85099B</td>\n",
              "      <td>22700.0</td>\n",
              "    </tr>\n",
              "    <tr>\n",
              "      <th>2</th>\n",
              "      <td>84879</td>\n",
              "      <td>21239.0</td>\n",
              "    </tr>\n",
              "    <tr>\n",
              "      <th>3</th>\n",
              "      <td>21212</td>\n",
              "      <td>20733.0</td>\n",
              "    </tr>\n",
              "    <tr>\n",
              "      <th>4</th>\n",
              "      <td>20725</td>\n",
              "      <td>16974.0</td>\n",
              "    </tr>\n",
              "    <tr>\n",
              "      <th>5</th>\n",
              "      <td>21232</td>\n",
              "      <td>16372.0</td>\n",
              "    </tr>\n",
              "    <tr>\n",
              "      <th>6</th>\n",
              "      <td>84991</td>\n",
              "      <td>13455.0</td>\n",
              "    </tr>\n",
              "    <tr>\n",
              "      <th>7</th>\n",
              "      <td>22423</td>\n",
              "      <td>13320.0</td>\n",
              "    </tr>\n",
              "    <tr>\n",
              "      <th>8</th>\n",
              "      <td>21080</td>\n",
              "      <td>12395.0</td>\n",
              "    </tr>\n",
              "    <tr>\n",
              "      <th>9</th>\n",
              "      <td>22178</td>\n",
              "      <td>12215.0</td>\n",
              "    </tr>\n",
              "  </tbody>\n",
              "</table>\n",
              "</div>"
            ],
            "text/plain": [
              "  stream_id  times_viewed\n",
              "0    85123A       33702.0\n",
              "1    85099B       22700.0\n",
              "2     84879       21239.0\n",
              "3     21212       20733.0\n",
              "4     20725       16974.0\n",
              "5     21232       16372.0\n",
              "6     84991       13455.0\n",
              "7     22423       13320.0\n",
              "8     21080       12395.0\n",
              "9     22178       12215.0"
            ]
          },
          "metadata": {
            "tags": []
          },
          "execution_count": 28
        }
      ]
    },
    {
      "cell_type": "code",
      "metadata": {
        "id": "cbjT3WNuFgWf",
        "colab_type": "code",
        "outputId": "ec6fc0ac-86b0-4555-ac1e-aeb1f9257c7c",
        "colab": {
          "base_uri": "https://localhost:8080/",
          "height": 300
        }
      },
      "source": [
        "#Price changes during 2019\n",
        "fig,ax=plt.subplots(2,5,figsize=(20,5))\n",
        "for i in range(5):\n",
        "  df[df.stream_id==list_t10_st_w[i]][['price','invoice_date']].groupby('invoice_date')['price'].mean().rolling(window=120).mean().plot(ax=ax[0][i])\n",
        "  ax[0][i].set_title(\"Stream ID: \"+list_t10_st_w[i])\n",
        "  ax[0][i].set_xlabel('')\n",
        "  ax[0][i].set_ylabel('Price')\n",
        "\n",
        "for i in range(5,10):\n",
        "  df[df.stream_id==list_t10_st_w[i]][['price','invoice_date']].groupby('invoice_date')['price'].mean().rolling(window=120).mean().plot(ax=ax[1][i-5])\n",
        "  ax[1][i-5].set_title(\"Stream ID: \"+list_t10_st_w[i])\n",
        "  ax[1][i-5].set_xlabel('')\n",
        "  ax[1][i-5].set_ylabel('Price')\n",
        "plt.tight_layout()"
      ],
      "execution_count": 0,
      "outputs": [
        {
          "output_type": "display_data",
          "data": {
            "image/png": "[encoded data removed]",
            "text/plain": [
              "<Figure size 1440x360 with 10 Axes>"
            ]
          },
          "metadata": {
            "tags": [],
            "needs_background": "light"
          }
        }
      ]
    },
    {
      "cell_type": "markdown",
      "metadata": {
        "id": "OsGdYOR0oUeL",
        "colab_type": "text"
      },
      "source": [
        "* It is clear that the price of majority of the streams is increased during the year 2019. It indicates that the increased price may not be a major factor for the purchase. More details need to be ontained regarding the genres of the stream. The marketing team could recommend or advertise the popular genres to the target countries."
      ]
    },
    {
      "cell_type": "markdown",
      "metadata": {
        "id": "RjPs1SBK-F4M",
        "colab_type": "text"
      },
      "source": [
        "####4.4 Time Series information"
      ]
    },
    {
      "cell_type": "code",
      "metadata": {
        "id": "Z174Q3caa1BY",
        "colab_type": "code",
        "colab": {}
      },
      "source": [
        "# Creat function to generate time series information\n",
        "def convert_to_ts(df_orig, country=None):\n",
        "    if country:\n",
        "        if country not in np.unique(df_orig['country'].values):\n",
        "            raise Excpetion(\"country not found\")\n",
        "    \n",
        "        mask = df_orig['country'] == country\n",
        "        df = df_orig[mask]\n",
        "    else:\n",
        "        df = df_orig\n",
        "        \n",
        "    list_dates=list(df.invoice_date.unique())\n",
        "    list_n_purchase=list(df.groupby('invoice_date').count()['customer_id'].values)\n",
        "    list_n_invoice=list(df.groupby('invoice_date').nunique()['invoice'].values)\n",
        "    list_n_stream=list(df.groupby('invoice_date').nunique()['stream_id'].values)\n",
        "    list_n_times_viewed=list(df.groupby('invoice_date')['times_viewed'].sum().values)\n",
        "    list_n_revenue=list(df.groupby('invoice_date')['price'].sum().values)\n",
        "\n",
        "    df_time = pd.DataFrame({'date':list_dates,\n",
        "                           'purchases':list_n_purchase,\n",
        "                           'unique_invoices':list_n_invoice,\n",
        "                           'unique_streams':list_n_stream,\n",
        "                           'total_views':list_n_times_viewed,\n",
        "                           'revenue':list_n_revenue})\n",
        "    df_time['year_month']=df_time.date.astype(str).str[:-3]\n",
        "    return(df_time)\n"
      ],
      "execution_count": 0,
      "outputs": []
    },
    {
      "cell_type": "code",
      "metadata": {
        "id": "STLy220zezec",
        "colab_type": "code",
        "outputId": "948b9710-b3ee-477b-e455-0551ab78cee1",
        "colab": {
          "base_uri": "https://localhost:8080/",
          "height": 419
        }
      },
      "source": [
        "df_time=convert_to_ts(df)\n",
        "df_time"
      ],
      "execution_count": 0,
      "outputs": [
        {
          "output_type": "execute_result",
          "data": {
            "text/html": [
              "<div>\n",
              "<style scoped>\n",
              "    .dataframe tbody tr th:only-of-type {\n",
              "        vertical-align: middle;\n",
              "    }\n",
              "\n",
              "    .dataframe tbody tr th {\n",
              "        vertical-align: top;\n",
              "    }\n",
              "\n",
              "    .dataframe thead th {\n",
              "        text-align: right;\n",
              "    }\n",
              "</style>\n",
              "<table border=\"1\" class=\"dataframe\">\n",
              "  <thead>\n",
              "    <tr style=\"text-align: right;\">\n",
              "      <th></th>\n",
              "      <th>date</th>\n",
              "      <th>purchases</th>\n",
              "      <th>unique_invoices</th>\n",
              "      <th>unique_streams</th>\n",
              "      <th>total_views</th>\n",
              "      <th>revenue</th>\n",
              "      <th>year_month</th>\n",
              "    </tr>\n",
              "  </thead>\n",
              "  <tbody>\n",
              "    <tr>\n",
              "      <th>0</th>\n",
              "      <td>2017-11-28</td>\n",
              "      <td>2307</td>\n",
              "      <td>137</td>\n",
              "      <td>1063</td>\n",
              "      <td>13285.0</td>\n",
              "      <td>7541.01</td>\n",
              "      <td>2017-11</td>\n",
              "    </tr>\n",
              "    <tr>\n",
              "      <th>1</th>\n",
              "      <td>2017-11-29</td>\n",
              "      <td>2304</td>\n",
              "      <td>120</td>\n",
              "      <td>1090</td>\n",
              "      <td>12111.0</td>\n",
              "      <td>6982.95</td>\n",
              "      <td>2017-11</td>\n",
              "    </tr>\n",
              "    <tr>\n",
              "      <th>2</th>\n",
              "      <td>2017-11-30</td>\n",
              "      <td>2408</td>\n",
              "      <td>137</td>\n",
              "      <td>1093</td>\n",
              "      <td>14541.0</td>\n",
              "      <td>9214.00</td>\n",
              "      <td>2017-11</td>\n",
              "    </tr>\n",
              "    <tr>\n",
              "      <th>3</th>\n",
              "      <td>2017-12-01</td>\n",
              "      <td>1965</td>\n",
              "      <td>93</td>\n",
              "      <td>1009</td>\n",
              "      <td>11319.0</td>\n",
              "      <td>5573.63</td>\n",
              "      <td>2017-12</td>\n",
              "    </tr>\n",
              "    <tr>\n",
              "      <th>4</th>\n",
              "      <td>2017-12-02</td>\n",
              "      <td>400</td>\n",
              "      <td>30</td>\n",
              "      <td>285</td>\n",
              "      <td>3310.0</td>\n",
              "      <td>1443.26</td>\n",
              "      <td>2017-12</td>\n",
              "    </tr>\n",
              "    <tr>\n",
              "      <th>...</th>\n",
              "      <td>...</td>\n",
              "      <td>...</td>\n",
              "      <td>...</td>\n",
              "      <td>...</td>\n",
              "      <td>...</td>\n",
              "      <td>...</td>\n",
              "      <td>...</td>\n",
              "    </tr>\n",
              "    <tr>\n",
              "      <th>490</th>\n",
              "      <td>2019-07-26</td>\n",
              "      <td>951</td>\n",
              "      <td>66</td>\n",
              "      <td>594</td>\n",
              "      <td>7145.0</td>\n",
              "      <td>2708.28</td>\n",
              "      <td>2019-07</td>\n",
              "    </tr>\n",
              "    <tr>\n",
              "      <th>491</th>\n",
              "      <td>2019-07-28</td>\n",
              "      <td>1262</td>\n",
              "      <td>42</td>\n",
              "      <td>784</td>\n",
              "      <td>6989.0</td>\n",
              "      <td>3092.25</td>\n",
              "      <td>2019-07</td>\n",
              "    </tr>\n",
              "    <tr>\n",
              "      <th>492</th>\n",
              "      <td>2019-07-29</td>\n",
              "      <td>1002</td>\n",
              "      <td>42</td>\n",
              "      <td>654</td>\n",
              "      <td>6609.0</td>\n",
              "      <td>3460.66</td>\n",
              "      <td>2019-07</td>\n",
              "    </tr>\n",
              "    <tr>\n",
              "      <th>493</th>\n",
              "      <td>2019-07-30</td>\n",
              "      <td>948</td>\n",
              "      <td>56</td>\n",
              "      <td>664</td>\n",
              "      <td>7384.0</td>\n",
              "      <td>2781.47</td>\n",
              "      <td>2019-07</td>\n",
              "    </tr>\n",
              "    <tr>\n",
              "      <th>494</th>\n",
              "      <td>2019-07-31</td>\n",
              "      <td>1373</td>\n",
              "      <td>77</td>\n",
              "      <td>791</td>\n",
              "      <td>9088.0</td>\n",
              "      <td>4048.64</td>\n",
              "      <td>2019-07</td>\n",
              "    </tr>\n",
              "  </tbody>\n",
              "</table>\n",
              "<p>495 rows × 7 columns</p>\n",
              "</div>"
            ],
            "text/plain": [
              "          date  purchases  unique_invoices  ...  total_views  revenue  year_month\n",
              "0   2017-11-28       2307              137  ...      13285.0  7541.01     2017-11\n",
              "1   2017-11-29       2304              120  ...      12111.0  6982.95     2017-11\n",
              "2   2017-11-30       2408              137  ...      14541.0  9214.00     2017-11\n",
              "3   2017-12-01       1965               93  ...      11319.0  5573.63     2017-12\n",
              "4   2017-12-02        400               30  ...       3310.0  1443.26     2017-12\n",
              "..         ...        ...              ...  ...          ...      ...         ...\n",
              "490 2019-07-26        951               66  ...       7145.0  2708.28     2019-07\n",
              "491 2019-07-28       1262               42  ...       6989.0  3092.25     2019-07\n",
              "492 2019-07-29       1002               42  ...       6609.0  3460.66     2019-07\n",
              "493 2019-07-30        948               56  ...       7384.0  2781.47     2019-07\n",
              "494 2019-07-31       1373               77  ...       9088.0  4048.64     2019-07\n",
              "\n",
              "[495 rows x 7 columns]"
            ]
          },
          "metadata": {
            "tags": []
          },
          "execution_count": 31
        }
      ]
    },
    {
      "cell_type": "code",
      "metadata": {
        "id": "Bg4HFpvU7bAg",
        "colab_type": "code",
        "outputId": "6ffcf5ca-4240-4f3f-895b-eeb82d595b7f",
        "colab": {
          "base_uri": "https://localhost:8080/",
          "height": 726
        }
      },
      "source": [
        "col_all=['revenue','purchases','unique_invoices','unique_streams','total_views']\n",
        "df_time.set_index('date',inplace=True)\n",
        "for i, col in enumerate(col_all):\n",
        "  plt.figure(figsize=(10,8))\n",
        "  plt.subplot(5,1,i+1)\n",
        "  df_time[col].rolling(window=120).mean().plot(x='date')\n",
        "  plt.title(col)\n",
        "  plt.xlabel('')\n",
        "  plt.tight_layout()"
      ],
      "execution_count": 0,
      "outputs": [
        {
          "output_type": "display_data",
          "data": {
            "image/png": "[encoded data removed]",
            "text/plain": [
              "<Figure size 720x576 with 1 Axes>"
            ]
          },
          "metadata": {
            "tags": [],
            "needs_background": "light"
          }
        },
        {
          "output_type": "display_data",
          "data": {
            "image/png": "[encoded data removed]",
            "text/plain": [
              "<Figure size 720x576 with 1 Axes>"
            ]
          },
          "metadata": {
            "tags": [],
            "needs_background": "light"
          }
        },
        {
          "output_type": "display_data",
          "data": {
            "image/png": "[encoded data removed]",
            "text/plain": [
              "<Figure size 720x576 with 1 Axes>"
            ]
          },
          "metadata": {
            "tags": [],
            "needs_background": "light"
          }
        },
        {
          "output_type": "display_data",
          "data": {
            "image/png": "[encoded data removed]",
            "text/plain": [
              "<Figure size 720x576 with 1 Axes>"
            ]
          },
          "metadata": {
            "tags": [],
            "needs_background": "light"
          }
        },
        {
          "output_type": "display_data",
          "data": {
            "image/png": "[encoded data removed]",
            "text/plain": [
              "<Figure size 720x576 with 1 Axes>"
            ]
          },
          "metadata": {
            "tags": [],
            "needs_background": "light"
          }
        }
      ]
    },
    {
      "cell_type": "code",
      "metadata": {
        "id": "kARJFIJFCFAl",
        "colab_type": "code",
        "outputId": "62fb614a-3f06-40f0-aa78-136134bb4b22",
        "colab": {
          "base_uri": "https://localhost:8080/",
          "height": 944
        }
      },
      "source": [
        "sns.pairplot(data=df_time, \n",
        "             vars=col_all,\n",
        "             kind='reg',\n",
        "             diag_kind='kde')"
      ],
      "execution_count": 0,
      "outputs": [
        {
          "output_type": "execute_result",
          "data": {
            "text/plain": [
              "<seaborn.axisgrid.PairGrid at 0x7f1f7f7a68d0>"
            ]
          },
          "metadata": {
            "tags": []
          },
          "execution_count": 33
        },
        {
          "output_type": "display_data",
          "data": {
            "image/png": "[encoded data removed]",
            "text/plain": [
              "<Figure size 900x900 with 30 Axes>"
            ]
          },
          "metadata": {
            "tags": [],
            "needs_background": "light"
          }
        }
      ]
    },
    {
      "cell_type": "markdown",
      "metadata": {
        "id": "rqwiMfh1ED68",
        "colab_type": "text"
      },
      "source": [
        "* It is clear that the all features reached the peak in January 2019 then gradually declined. All features are also positively related"
      ]
    },
    {
      "cell_type": "markdown",
      "metadata": {
        "id": "oCkAIsucEZdc",
        "colab_type": "text"
      },
      "source": [
        "####4.5 Extract time series data from top 10 countries"
      ]
    },
    {
      "cell_type": "code",
      "metadata": {
        "id": "Br6mqeNZf0M6",
        "colab_type": "code",
        "colab": {}
      },
      "source": [
        "# Store top 10 countries time series information\n",
        "df_time_all = {}\n",
        "df_time_all['all'] = convert_to_ts(df)\n",
        "for country in top_countries:\n",
        "    df_time_all[country] = convert_to_ts(df,country=country)\n"
      ],
      "execution_count": 0,
      "outputs": []
    },
    {
      "cell_type": "code",
      "metadata": {
        "id": "GX5faQATjuZA",
        "colab_type": "code",
        "outputId": "5a352929-b314-4fad-8040-d134f6750b7f",
        "colab": {
          "base_uri": "https://localhost:8080/",
          "height": 1000
        }
      },
      "source": [
        "df_time_all\n"
      ],
      "execution_count": 0,
      "outputs": [
        {
          "output_type": "execute_result",
          "data": {
            "text/plain": [
              "{'Belgium':           date  purchases  unique_invoices  ...  total_views  revenue  year_month\n",
              " 0   2017-11-28          1                1  ...          1.0   130.00     2017-11\n",
              " 1   2017-12-03         18                1  ...        123.0    78.25     2017-12\n",
              " 2   2017-12-07          1                1  ...         10.0     0.85     2017-12\n",
              " 3   2018-01-05         27                1  ...        190.0   121.40     2018-01\n",
              " 4   2018-01-10          1                1  ...          3.0     9.95     2018-01\n",
              " ..         ...        ...              ...  ...          ...      ...         ...\n",
              " 104 2019-07-04         20                2  ...        143.0    96.71     2019-07\n",
              " 105 2019-07-10          2                1  ...         13.0    17.55     2019-07\n",
              " 106 2019-07-24         70                1  ...        528.0   247.49     2019-07\n",
              " 107 2019-07-25          4                1  ...         30.0    22.72     2019-07\n",
              " 108 2019-07-30         39                1  ...        242.0   171.80     2019-07\n",
              " \n",
              " [109 rows x 7 columns],\n",
              " 'EIRE':           date  purchases  unique_invoices  ...  total_views  revenue  year_month\n",
              " 0   2017-11-28         86                3  ...        545.0   375.99     2017-11\n",
              " 1   2017-11-30         33                1  ...        192.0   194.22     2017-11\n",
              " 2   2017-12-04         62                3  ...        402.0   432.10     2017-12\n",
              " 3   2017-12-05         30                5  ...        255.0    97.35     2017-12\n",
              " 4   2017-12-07         19                1  ...        104.0   133.31     2017-12\n",
              " ..         ...        ...              ...  ...          ...      ...         ...\n",
              " 272 2019-07-23          7                1  ...         78.0    62.67     2019-07\n",
              " 273 2019-07-24         24                2  ...        272.0    47.62     2019-07\n",
              " 274 2019-07-25         60                2  ...        621.0   238.10     2019-07\n",
              " 275 2019-07-26         25                1  ...        220.0    95.19     2019-07\n",
              " 276 2019-07-28         99                2  ...       1007.0   205.84     2019-07\n",
              " \n",
              " [277 rows x 7 columns],\n",
              " 'France':           date  purchases  unique_invoices  ...  total_views  revenue  year_month\n",
              " 0   2017-11-28         41                3  ...        343.0   134.25     2017-11\n",
              " 1   2017-11-29         29                2  ...        240.0   120.02     2017-11\n",
              " 2   2017-11-30         31                2  ...        121.0    98.15     2017-11\n",
              " 3   2017-12-01         32                2  ...        184.0   184.73     2017-12\n",
              " 4   2017-12-03         23                1  ...        227.0    76.38     2017-12\n",
              " ..         ...        ...              ...  ...          ...      ...         ...\n",
              " 279 2019-07-24         13                1  ...        106.0    50.74     2019-07\n",
              " 280 2019-07-25          2                1  ...          6.0    29.70     2019-07\n",
              " 281 2019-07-26         45                1  ...        411.0   104.30     2019-07\n",
              " 282 2019-07-30          5                1  ...         52.0     8.25     2019-07\n",
              " 283 2019-07-31          8                1  ...         77.0    27.71     2019-07\n",
              " \n",
              " [284 rows x 7 columns],\n",
              " 'Germany':           date  purchases  unique_invoices  ...  total_views  revenue  year_month\n",
              " 0   2017-11-28         44                1  ...        367.0   139.03     2017-11\n",
              " 1   2017-11-29          2                1  ...          5.0     4.60     2017-11\n",
              " 2   2017-11-30          3                1  ...          2.0    12.85     2017-11\n",
              " 3   2017-12-03         13                1  ...         98.0    49.20     2017-12\n",
              " 4   2017-12-04         44                3  ...        444.0   151.98     2017-12\n",
              " ..         ...        ...              ...  ...          ...      ...         ...\n",
              " 354 2019-07-25         17                1  ...        122.0    73.26     2019-07\n",
              " 355 2019-07-26          5                1  ...         10.0    54.24     2019-07\n",
              " 356 2019-07-29         63                1  ...        555.0   191.23     2019-07\n",
              " 357 2019-07-30         73                3  ...        608.0   198.41     2019-07\n",
              " 358 2019-07-31         13                1  ...        116.0    18.48     2019-07\n",
              " \n",
              " [359 rows x 7 columns],\n",
              " 'Netherlands':           date  purchases  unique_invoices  ...  total_views  revenue  year_month\n",
              " 0   2017-11-29         23                2  ...        240.0    49.33     2017-11\n",
              " 1   2017-12-01         22                1  ...        195.0    77.52     2017-12\n",
              " 2   2017-12-05         51                1  ...         51.0   104.15     2017-12\n",
              " 3   2017-12-13          7                1  ...         76.0    37.25     2017-12\n",
              " 4   2017-12-15         52                1  ...        634.0   116.01     2017-12\n",
              " ..         ...        ...              ...  ...          ...      ...         ...\n",
              " 128 2019-06-16         52                1  ...        665.0    89.84     2019-06\n",
              " 129 2019-06-17         59                1  ...         61.0   144.77     2019-06\n",
              " 130 2019-06-18         39                1  ...        336.0   125.21     2019-06\n",
              " 131 2019-06-25        103                3  ...       1244.0   248.66     2019-06\n",
              " 132 2019-07-17         10                1  ...         10.0    26.02     2019-07\n",
              " \n",
              " [133 rows x 7 columns],\n",
              " 'Norway':          date  purchases  unique_invoices  ...  total_views   revenue  year_month\n",
              " 0  2017-12-04         21                1  ...        175.0    123.28     2017-12\n",
              " 1  2018-03-16          5                5  ...         11.0  33628.55     2018-03\n",
              " 2  2018-08-17          9                2  ...        122.0    154.80     2018-08\n",
              " 3  2018-09-13         53                1  ...        498.0    139.74     2018-09\n",
              " 4  2018-10-31         38                1  ...        432.0     65.76     2018-10\n",
              " 5  2018-11-02         78                1  ...        801.0    195.29     2018-11\n",
              " 6  2018-11-09          6                1  ...         67.0     12.45     2018-11\n",
              " 7  2018-11-26         12                1  ...         93.0     42.15     2018-11\n",
              " 8  2018-11-28        146                1  ...       1717.0    205.34     2018-11\n",
              " 9  2018-12-05        148                1  ...       1718.0    272.32     2018-12\n",
              " 10 2019-01-30         17                1  ...        176.0     65.30     2019-01\n",
              " 11 2019-02-13         15                1  ...         98.0     68.35     2019-02\n",
              " 12 2019-02-26         11                4  ...         33.0   1741.65     2019-02\n",
              " 13 2019-03-14          7                1  ...         63.0     16.69     2019-03\n",
              " 14 2019-03-19         15                2  ...         77.0     73.38     2019-03\n",
              " 15 2019-06-17         75                2  ...        785.0    347.71     2019-06\n",
              " 16 2019-06-18         90                1  ...        570.0    473.36     2019-06\n",
              " 17 2019-06-19          1                1  ...          1.0    700.00     2019-06\n",
              " 18 2019-07-19         49                1  ...        444.0    168.63     2019-07\n",
              " \n",
              " [19 rows x 7 columns],\n",
              " 'Portugal':          date  purchases  unique_invoices  ...  total_views  revenue  year_month\n",
              " 0  2017-11-28         79                1  ...        771.0   208.75     2017-11\n",
              " 1  2017-12-05         19                1  ...        121.0    85.60     2017-12\n",
              " 2  2018-01-23          2                2  ...          3.0   130.85     2018-01\n",
              " 3  2018-01-29         24                2  ...        192.0    83.57     2018-01\n",
              " 4  2018-02-07          4                1  ...         43.0    30.12     2018-02\n",
              " ..        ...        ...              ...  ...          ...      ...         ...\n",
              " 67 2019-06-12         25                1  ...        186.0   110.23     2019-06\n",
              " 68 2019-06-21          1                1  ...          4.0     4.95     2019-06\n",
              " 69 2019-07-10         61                2  ...        607.0   150.72     2019-07\n",
              " 70 2019-07-17         28                1  ...        336.0    49.49     2019-07\n",
              " 71 2019-07-31          1                1  ...          1.0     1.25     2019-07\n",
              " \n",
              " [72 rows x 7 columns],\n",
              " 'Singapore':         date  purchases  unique_invoices  ...  total_views   revenue  year_month\n",
              " 0 2018-04-24         36                1  ...        299.0    152.76     2018-04\n",
              " 1 2018-09-03         81                3  ...        811.0    219.75     2018-09\n",
              " 2 2019-01-22         56                1  ...        562.0    263.34     2019-01\n",
              " 3 2019-04-01         10                4  ...         14.0  12181.68     2019-04\n",
              " 4 2019-04-02         52                1  ...        539.0    127.93     2019-04\n",
              " 5 2019-07-15         75                1  ...        817.0    230.46     2019-07\n",
              " \n",
              " [6 rows x 7 columns],\n",
              " 'Spain':           date  purchases  unique_invoices  ...  total_views  revenue  year_month\n",
              " 0   2017-11-30          2                1  ...          2.0     3.35     2017-11\n",
              " 1   2017-12-01         18                2  ...        149.0    92.03     2017-12\n",
              " 2   2017-12-04          7                1  ...         71.0    58.70     2017-12\n",
              " 3   2017-12-14          3                1  ...         41.0    10.17     2017-12\n",
              " 4   2017-12-20        207                2  ...       1929.0   680.97     2017-12\n",
              " ..         ...        ...              ...  ...          ...      ...         ...\n",
              " 99  2019-07-04         27                3  ...        160.0   139.00     2019-07\n",
              " 100 2019-07-08         67                1  ...        166.0   180.74     2019-07\n",
              " 101 2019-07-17          4                1  ...         19.0    45.09     2019-07\n",
              " 102 2019-07-22         47                1  ...        479.0   164.83     2019-07\n",
              " 103 2019-07-25          7                1  ...         46.0    45.40     2019-07\n",
              " \n",
              " [104 rows x 7 columns],\n",
              " 'United Kingdom':           date  purchases  unique_invoices  ...  total_views  revenue  year_month\n",
              " 0   2017-11-28       2037              125  ...      11160.0  6371.59     2017-11\n",
              " 1   2017-11-29       2246              113  ...      11608.0  6800.76     2017-11\n",
              " 2   2017-11-30       2317              131  ...      14018.0  8865.25     2017-11\n",
              " 3   2017-12-01       1849               86  ...      10447.0  5049.42     2017-12\n",
              " 4   2017-12-02        368               29  ...       3098.0  1263.28     2017-12\n",
              " ..         ...        ...              ...  ...          ...      ...         ...\n",
              " 490 2019-07-26        876               63  ...       6504.0  2454.55     2019-07\n",
              " 491 2019-07-28       1084               37  ...       5205.0  2598.69     2019-07\n",
              " 492 2019-07-29        926               40  ...       5908.0  3210.94     2019-07\n",
              " 493 2019-07-30        586               47  ...       4387.0  1666.83     2019-07\n",
              " 494 2019-07-31       1335               72  ...       8802.0  3927.75     2019-07\n",
              " \n",
              " [495 rows x 7 columns],\n",
              " 'all':           date  purchases  unique_invoices  ...  total_views  revenue  year_month\n",
              " 0   2017-11-28       2307              137  ...      13285.0  7541.01     2017-11\n",
              " 1   2017-11-29       2304              120  ...      12111.0  6982.95     2017-11\n",
              " 2   2017-11-30       2408              137  ...      14541.0  9214.00     2017-11\n",
              " 3   2017-12-01       1965               93  ...      11319.0  5573.63     2017-12\n",
              " 4   2017-12-02        400               30  ...       3310.0  1443.26     2017-12\n",
              " ..         ...        ...              ...  ...          ...      ...         ...\n",
              " 490 2019-07-26        951               66  ...       7145.0  2708.28     2019-07\n",
              " 491 2019-07-28       1262               42  ...       6989.0  3092.25     2019-07\n",
              " 492 2019-07-29       1002               42  ...       6609.0  3460.66     2019-07\n",
              " 493 2019-07-30        948               56  ...       7384.0  2781.47     2019-07\n",
              " 494 2019-07-31       1373               77  ...       9088.0  4048.64     2019-07\n",
              " \n",
              " [495 rows x 7 columns]}"
            ]
          },
          "metadata": {
            "tags": []
          },
          "execution_count": 35
        }
      ]
    },
    {
      "cell_type": "markdown",
      "metadata": {
        "id": "zAf3gbIe7K-O",
        "colab_type": "text"
      },
      "source": [
        "#### 4.6 Creat functions to fetch the data from file"
      ]
    },
    {
      "cell_type": "code",
      "metadata": {
        "id": "PKyVyNeQ6qkI",
        "colab_type": "code",
        "colab": {}
      },
      "source": [
        "def fetch_data(data_dir):\n",
        "    \"\"\"\n",
        "    laod all json formatted files into a dataframe\n",
        "    \"\"\"\n",
        "    file_list = [os.path.join(data_dir,f) for f in os.listdir(data_dir) if re.search(\"\\.json\",f)]\n",
        "    correct_columns = ['country', 'customer_id', 'day', 'invoice', 'month',\n",
        "                       'price', 'stream_id', 'times_viewed', 'year']\n",
        "\n",
        "\n",
        "    ## read data into a temp structure\n",
        "    all_months = {}\n",
        "    for file_name in file_list:\n",
        "        df = pd.read_json(file_name)\n",
        "        all_months[os.path.split(file_name)[-1]] = df\n",
        "\n",
        "    ## ensure the data are formatted with correct columns\n",
        "    for f,df in all_months.items():\n",
        "        cols = set(df.columns.tolist())\n",
        "        if 'StreamID' in cols:\n",
        "             df.rename(columns={'StreamID':'stream_id'},inplace=True)\n",
        "        if 'TimesViewed' in cols:\n",
        "            df.rename(columns={'TimesViewed':'times_viewed'},inplace=True)\n",
        "        if 'total_price' in cols:\n",
        "            df.rename(columns={'total_price':'price'},inplace=True)\n",
        "\n",
        "        cols = df.columns.tolist()\n",
        "        if sorted(cols) != correct_columns:\n",
        "            raise Exception(\"columns name could not be matched to correct cols\")\n",
        "\n",
        "    ## concat all of the data\n",
        "    df = pd.concat(list(all_months.values()),sort=True)\n",
        "    ## clean the date\n",
        "    df['invoice_date']=(df.year.astype(str)+'-'+df.month.astype(str)+'-'+df.day.astype(str)).astype('datetime64')\n",
        "    \n",
        "    ## sort by date and reset the index\n",
        "    df.sort_values(by='invoice_date',inplace=True)\n",
        "    df.reset_index(drop=True,inplace=True)\n",
        "    \n",
        "    return(df)\n",
        "\n",
        "\n",
        "# Creat function to generate time series information\n",
        "def convert_to_ts(df_orig, country=None):\n",
        "    if country:\n",
        "        if country not in np.unique(df_orig['country'].values):\n",
        "            raise Excpetion(\"country not found\")\n",
        "    \n",
        "        mask = df_orig['country'] == country\n",
        "        df = df_orig[mask]\n",
        "    else:\n",
        "        df = df_orig\n",
        "        \n",
        "    list_dates=list(df.invoice_date.unique())\n",
        "    list_n_purchase=list(df.groupby('invoice_date').count()['customer_id'].values)\n",
        "    list_n_invoice=list(df.groupby('invoice_date').nunique()['invoice'].values)\n",
        "    list_n_stream=list(df.groupby('invoice_date').nunique()['stream_id'].values)\n",
        "    list_n_times_viewed=list(df.groupby('invoice_date')['times_viewed'].sum().values)\n",
        "    list_n_revenue=list(df.groupby('invoice_date')['price'].sum().values)\n",
        "\n",
        "    df_time = pd.DataFrame({'date':list_dates,\n",
        "                           'purchases':list_n_purchase,\n",
        "                           'unique_invoices':list_n_invoice,\n",
        "                           'unique_streams':list_n_stream,\n",
        "                           'total_views':list_n_times_viewed,\n",
        "                           'revenue':list_n_revenue})\n",
        "    df_time['year_month']=df_time.date.astype(str).str[:-3]\n",
        "    return(df_time)\n",
        "\n",
        "\n",
        "\n",
        "def fetch_ts(data_dir, clean=False):\n",
        "    \"\"\"\n",
        "    convenience function to read in new data\n",
        "    uses csv to load quickly\n",
        "    use clean=True when you want to re-create the files\n",
        "    \"\"\"\n",
        "\n",
        "    ## get original data\n",
        "    print(\"... processing data for loading\")\n",
        "    df = fetch_data(data_dir)\n",
        "\n",
        "    ## find the top ten countries (wrt revenue)\n",
        "    table=pd.pivot_table(data=df,index='country',values='price',aggfunc='sum')\n",
        "    table.columns=['Total Revenue']\n",
        "    table.sort_values('Total Revenue',inplace=True)\n",
        "    table=table.tail(10)\n",
        "    top_countries=table.index\n",
        "\n",
        "\n",
        "    ## load the data\n",
        "    df_time_all = {}\n",
        "    df_time_all['all'] = convert_to_ts(df)\n",
        "    for country in top_countries:\n",
        "      df_time_all[country] = convert_to_ts(df,country=country)\n",
        "\n",
        "\n",
        "    ## save the data as csvs    \n",
        "    for key, item in dfs.items():\n",
        "        item.to_csv(os.path.join(ts_data_dir,\"ts-\"+key+\".csv\"),index=False)\n",
        "        \n",
        "    return(df_time_all)"
      ],
      "execution_count": 0,
      "outputs": []
    },
    {
      "cell_type": "markdown",
      "metadata": {
        "id": "ba0LCO4iE6sA",
        "colab_type": "text"
      },
      "source": [
        "## Part 5 Feature Engineering<a name=\"feature\"></a>\n",
        "We could engineer features with revenue for the previous day, previous week, previous month, previous three months and previous year"
      ]
    },
    {
      "cell_type": "code",
      "metadata": {
        "id": "awTIgsJOoDte",
        "colab_type": "code",
        "colab": {}
      },
      "source": [
        "def engineer_features(df,training=True):\n",
        "    ## extract dates\n",
        "    df.reset_index(inplace=True)\n",
        "    dates = df['date'].values.copy()\n",
        "    dates = dates.astype('datetime64[D]')\n",
        "    ## engineer some features\n",
        "    eng_features = defaultdict(list)\n",
        "    previous =[7, 14, 28, 70]  #[7, 14, 21, 28, 35, 42, 49, 56, 63, 70]\n",
        "    y = np.zeros(dates.size)\n",
        "    for d,day in enumerate(dates):\n",
        "        ## use windows in time back from a specific date\n",
        "        for num in previous:\n",
        "            current = np.datetime64(day, 'D') \n",
        "            prev = current - np.timedelta64(num, 'D')\n",
        "            mask = np.in1d(dates, np.arange(prev,current,dtype='datetime64[D]'))\n",
        "            eng_features[\"previous_{}\".format(num)].append(df[mask]['revenue'].sum())\n",
        "\n",
        "        ## get get the target revenue    \n",
        "        plus_30 = current + np.timedelta64(30,'D')\n",
        "        mask = np.in1d(dates, np.arange(current,plus_30,dtype='datetime64[D]'))\n",
        "        y[d] = df[mask]['revenue'].sum()\n",
        "\n",
        "        ## attempt to capture monthly trend with previous years data (if present)\n",
        "        start_date = current - np.timedelta64(365,'D')\n",
        "        stop_date = plus_30 - np.timedelta64(365,'D')\n",
        "        mask = np.in1d(dates, np.arange(start_date,stop_date,dtype='datetime64[D]'))\n",
        "        eng_features['previous_year'].append(df[mask]['revenue'].sum()) #\n",
        "\n",
        "        ## add some non-revenue features\n",
        "        minus_30 = current - np.timedelta64(30,'D')\n",
        "        mask = np.in1d(dates, np.arange(minus_30,current,dtype='datetime64[D]'))\n",
        "        eng_features['recent_invoices'].append(df[mask]['unique_invoices'].mean())\n",
        "        eng_features['recent_views'].append(df[mask]['total_views'].mean())\n",
        "\n",
        "    X = pd.DataFrame(eng_features)\n",
        "    ## combine features in to df and remove rows with all zeros\n",
        "    X.fillna(0,inplace=True)\n",
        "    mask = X.sum(axis=1)>0\n",
        "    X = X[mask]\n",
        "    y = y[mask]\n",
        "    dates = dates[mask]\n",
        "    X.reset_index(drop=True, inplace=True)\n",
        "\n",
        "    if training == True:\n",
        "        ## remove the last 30 days (because the target is not reliable)\n",
        "        mask = np.arange(X.shape[0]) < np.arange(X.shape[0])[-30]\n",
        "        X = X[mask]\n",
        "        y = y[mask]\n",
        "        dates = dates[mask]\n",
        "        X.reset_index(drop=True, inplace=True)\n",
        "    \n",
        "    return(X,y,dates)"
      ],
      "execution_count": 0,
      "outputs": []
    },
    {
      "cell_type": "code",
      "metadata": {
        "id": "DolZjnYyoIwq",
        "colab_type": "code",
        "colab": {}
      },
      "source": [
        "X,y,dates=engineer_features(df_time)"
      ],
      "execution_count": 0,
      "outputs": []
    },
    {
      "cell_type": "markdown",
      "metadata": {
        "id": "urd4QIhqtD5t",
        "colab_type": "text"
      },
      "source": [
        "## Part 6 Modelling<a name=\"modelling\"></a>"
      ]
    },
    {
      "cell_type": "code",
      "metadata": {
        "id": "sqlUhZnms7Q2",
        "colab_type": "code",
        "colab": {}
      },
      "source": [
        "import time,os,re,csv,sys,uuid,joblib\n",
        "from datetime import date\n",
        "from collections import defaultdict\n",
        "import numpy as np\n",
        "import pandas as pd\n",
        "from sklearn import svm\n",
        "from sklearn.model_selection import train_test_split, GridSearchCV\n",
        "from sklearn.ensemble import RandomForestRegressor\n",
        "from sklearn.metrics import mean_squared_error\n",
        "from sklearn.preprocessing import StandardScaler, OneHotEncoder\n",
        "from xgboost import XGBRegressor\n",
        "from sklearn.pipeline import Pipeline\n",
        "\n",
        "X_train, X_test, y_train, y_test = train_test_split(X, y, test_size=0.25,\n",
        "                                                        shuffle=True, random_state=42)"
      ],
      "execution_count": 0,
      "outputs": []
    },
    {
      "cell_type": "markdown",
      "metadata": {
        "id": "0HlCyIPevhOC",
        "colab_type": "text"
      },
      "source": [
        "### 3.1 Random Forest"
      ]
    },
    {
      "cell_type": "code",
      "metadata": {
        "id": "PgPgTuklODJg",
        "colab_type": "code",
        "outputId": "81f1ce1b-5ebd-41d6-e703-e6e8d2463adb",
        "colab": {
          "base_uri": "https://localhost:8080/",
          "height": 323
        }
      },
      "source": [
        "RandomForestRegressor().get_params()"
      ],
      "execution_count": 0,
      "outputs": [
        {
          "output_type": "execute_result",
          "data": {
            "text/plain": [
              "{'bootstrap': True,\n",
              " 'ccp_alpha': 0.0,\n",
              " 'criterion': 'mse',\n",
              " 'max_depth': None,\n",
              " 'max_features': 'auto',\n",
              " 'max_leaf_nodes': None,\n",
              " 'max_samples': None,\n",
              " 'min_impurity_decrease': 0.0,\n",
              " 'min_impurity_split': None,\n",
              " 'min_samples_leaf': 1,\n",
              " 'min_samples_split': 2,\n",
              " 'min_weight_fraction_leaf': 0.0,\n",
              " 'n_estimators': 100,\n",
              " 'n_jobs': None,\n",
              " 'oob_score': False,\n",
              " 'random_state': None,\n",
              " 'verbose': 0,\n",
              " 'warm_start': False}"
            ]
          },
          "metadata": {
            "tags": []
          },
          "execution_count": 40
        }
      ]
    },
    {
      "cell_type": "code",
      "metadata": {
        "id": "SBjwYv3_x-sn",
        "colab_type": "code",
        "outputId": "f3842fc8-6d55-4753-e271-fad9c6930cab",
        "colab": {
          "base_uri": "https://localhost:8080/",
          "height": 34
        }
      },
      "source": [
        "## train a random forest model\n",
        "param_grid_rf = {\n",
        "    'rf__criterion': ['mse','mae'],\n",
        "    'rf__n_estimators': [10,15,20]\n",
        "    }\n",
        "\n",
        "\n",
        "pipe_rf = Pipeline(steps=[('scaler', StandardScaler()),\n",
        "                          ('rf', RandomForestRegressor())])\n",
        "    \n",
        "grid = GridSearchCV(pipe_rf, param_grid=param_grid_rf, cv=5, n_jobs=-1)\n",
        "grid.fit(X_train, y_train)\n",
        "y_pred = grid.predict(X_test)\n",
        "eval_rmse =  round(np.sqrt(mean_squared_error(y_test,y_pred)))\n",
        "print('RMSE = %f' % eval_rmse)\n"
      ],
      "execution_count": 0,
      "outputs": [
        {
          "output_type": "stream",
          "text": [
            "RMSE = 17580.000000\n"
          ],
          "name": "stdout"
        }
      ]
    },
    {
      "cell_type": "markdown",
      "metadata": {
        "id": "tA1wWa8OvoRG",
        "colab_type": "text"
      },
      "source": [
        "### 3.2 Gaussian Processes"
      ]
    },
    {
      "cell_type": "code",
      "metadata": {
        "id": "rboFAezPxQgX",
        "colab_type": "code",
        "outputId": "e0b36148-0e7e-407c-92ee-484944e5a5ca",
        "colab": {
          "base_uri": "https://localhost:8080/",
          "height": 34
        }
      },
      "source": [
        "from sklearn.gaussian_process import GaussianProcessRegressor as GP\n",
        "from sklearn.gaussian_process.kernels import ConstantKernel as C\n",
        "from sklearn.gaussian_process.kernels import RBF\n",
        "from sklearn.gaussian_process.kernels import ExpSineSquared as ES\n",
        "from sklearn.gaussian_process.kernels import DotProduct as DP\n",
        "from sklearn.gaussian_process.kernels import Matern \n",
        "from sklearn.gaussian_process.kernels import WhiteKernel as WK\n",
        "\n",
        "l = 2.\n",
        "kernels = {'cnt': C(constant_value=0.1),\n",
        "           'rbf': RBF(length_scale=l),\n",
        "           'ex2': ES(length_scale=l),\n",
        "           'dot': DP(sigma_0=0.1),\n",
        "           'mat': Matern(length_scale=l , nu=1.5),\n",
        "           'whi': WK(noise_level=0.01)}\n",
        "           \n",
        "k = kernels['cnt'] + kernels['ex2'] + kernels['rbf'] \n",
        "if 'gp' in locals(): del gp\n",
        "\n",
        "# Train\n",
        "X_train, X_test, y_train, y_test = train_test_split(X, y, test_size=0.25,\n",
        "                                                        shuffle=True, random_state=42)\n",
        "# Predict\n",
        "pipe_gp = Pipeline(steps=[('scaler', StandardScaler()),\n",
        "                          ('gp', GP(kernel=k, n_restarts_optimizer=9, normalize_y=True))])\n",
        "\n",
        "\n",
        "pipe_gp.fit(X_train, y_train)\n",
        "gp_y_fit = pipe_gp.predict(X_train, return_std=False)\n",
        "gp_y_pred, gp_y_std = pipe_gp.predict(X_test, return_std=True)\n",
        "\n",
        "\n",
        "# Calculating Errors\n",
        "gp_rmse = round(np.sqrt(mean_squared_error(y_test,gp_y_pred)))\n",
        "print('RMSE = %f' % gp_rmse)\n"
      ],
      "execution_count": 0,
      "outputs": [
        {
          "output_type": "stream",
          "text": [
            "RMSE = 14445.000000\n"
          ],
          "name": "stdout"
        }
      ]
    },
    {
      "cell_type": "markdown",
      "metadata": {
        "id": "s1SWjX9etwgA",
        "colab_type": "text"
      },
      "source": [
        "### 3.3 Creat a function for modelling"
      ]
    },
    {
      "cell_type": "code",
      "metadata": {
        "id": "TTChqGzeC40x",
        "colab_type": "code",
        "colab": {}
      },
      "source": [
        "## model specific variables (iterate the version and note with each change)\n",
        "MODEL_DIR = \"models\"\n",
        "MODEL_VERSION = 0.1\n",
        "MODEL_VERSION_NOTE = \"supervised learing model for time-series\"\n",
        "\n",
        "def _model_train(df,tag,test=False):\n",
        "    \"\"\"\n",
        "    example funtion to train model\n",
        "    \n",
        "    The 'test' flag when set to 'True':\n",
        "        (1) subsets the data and serializes a test version\n",
        "        (2) specifies that the use of the 'test' log file \n",
        "    \"\"\"\n",
        "\n",
        "\n",
        "    ## start timer for runtime\n",
        "    time_start = time.time()\n",
        "    \n",
        "    X,y,dates = engineer_features(df)\n",
        "\n",
        "    if test:\n",
        "        n_samples = int(np.round(0.3 * X.shape[0]))\n",
        "        subset_indices = np.random.choice(np.arange(X.shape[0]),n_samples,\n",
        "                                          replace=False).astype(int)\n",
        "        mask = np.in1d(np.arange(y.size),subset_indices)\n",
        "        y=y[mask]\n",
        "        X=X[mask]\n",
        "        dates=dates[mask]\n",
        "        \n",
        "    ## Perform a train-test split\n",
        "    X_train, X_test, y_train, y_test = train_test_split(X, y, test_size=0.25,\n",
        "                                                        shuffle=True, random_state=42)\n",
        "    ## train a random forest model\n",
        "    param_grid_rf = {\n",
        "    'rf__criterion': ['mse','mae'],\n",
        "    'rf__n_estimators': [10,15,20,25]\n",
        "    }\n",
        "\n",
        "    pipe_rf = Pipeline(steps=[('scaler', StandardScaler()),\n",
        "                              ('rf', RandomForestRegressor())])\n",
        "    \n",
        "    grid = GridSearchCV(pipe_rf, param_grid=param_grid_rf, cv=5, iid=False, n_jobs=-1)\n",
        "    grid.fit(X_train, y_train)\n",
        "    y_pred = grid.predict(X_test)\n",
        "    eval_rmse =  round(np.sqrt(mean_squared_error(y_test,y_pred)))\n",
        "    \n",
        "    ## retrain using all data\n",
        "    grid.fit(X, y)\n",
        "    model_name = re.sub(\"\\.\",\"_\",str(MODEL_VERSION))\n",
        "\n",
        "    m, s = divmod(time.time()-time_start, 60)\n",
        "    h, m = divmod(m, 60)\n",
        "    runtime = \"%03d:%02d:%02d\"%(h, m, s)\n",
        "\n",
        "    ## update log\n",
        "    update_train_log(tag,(str(dates[0]),str(dates[-1])),{'rmse':eval_rmse},runtime,\n",
        "                     MODEL_VERSION, MODEL_VERSION_NOTE,test=True)\n",
        "  \n",
        "\n",
        "def model_train(data_dir,test=False):\n",
        "    \"\"\"\n",
        "    funtion to train model given a df\n",
        "    \n",
        "    'mode' -  can be used to subset data essentially simulating a train\n",
        "    \"\"\"\n",
        "        \n",
        "    ## fetch time-series formatted data\n",
        "    ts_data = fetch_ts(data_dir)\n",
        "\n",
        "    ## train a different model for each data sets\n",
        "    for country,df in ts_data.items():\n",
        "        \n",
        "        if test and country not in ['all','united_kingdom']:\n",
        "            continue\n",
        "        \n",
        "        _model_train(df,country,test=test)\n",
        "    \n",
        "def model_load(prefix='sl',data_dir=None,training=True):\n",
        "\n",
        "\n",
        "    ## load data\n",
        "    ts_data = fetch_ts(data_dir)\n",
        "    all_data = {}\n",
        "    for country, df in ts_data.items():\n",
        "        X,y,dates = engineer_features(df,training=training)\n",
        "        dates = np.array([str(d) for d in dates])\n",
        "        all_data[country] = {\"X\":X,\"y\":y,\"dates\": dates}\n",
        "        \n",
        "    return(all_data, all_models)\n",
        "\n",
        "def model_predict(country,year,month,day,all_models=None,test=False):\n",
        "    ## load data\n",
        "    model = all_models[country]\n",
        "    data = all_data[country]\n",
        "\n",
        "    ## check date\n",
        "    target_date = \"{}-{}-{}\".format(year,str(month).zfill(2),str(day).zfill(2))\n",
        "    print(target_date)\n",
        "\n",
        "    if target_date not in data['dates']:\n",
        "        raise Exception(\"ERROR (model_predict) - date {} not in range {}-{}\".format(target_date,\n",
        "                                                                                    data['dates'][0],\n",
        "                                                                                    data['dates'][-1]))\n",
        "    date_indx = np.where(data['dates'] == target_date)[0][0]\n",
        "    query = data['X'].iloc[[date_indx]]\n",
        "    \n",
        "    ## sainty check\n",
        "    if data['dates'].shape[0] != data['X'].shape[0]:\n",
        "        raise Exception(\"ERROR (model_predict) - dimensions mismatch\")\n",
        "\n",
        "    ## make prediction and gather data for log entry\n",
        "    y_pred = model.predict(query)\n",
        "    y_proba = None\n",
        "    if 'predict_proba' in dir(model) and 'probability' in dir(model):\n",
        "        if model.probability == True:\n",
        "            y_proba = model.predict_proba(query)\n",
        "\n",
        "\n",
        "    m, s = divmod(time.time()-time_start, 60)\n",
        "    h, m = divmod(m, 60)\n",
        "    runtime = \"%03d:%02d:%02d\"%(h, m, s)\n",
        "\n",
        "    ## update predict log\n",
        "    update_predict_log(country,y_pred,y_proba,target_date,\n",
        "                       runtime, MODEL_VERSION, test=test)\n",
        "    \n",
        "    return({'y_pred':y_pred,'y_proba':y_proba})"
      ],
      "execution_count": 0,
      "outputs": []
    },
    {
      "cell_type": "code",
      "metadata": {
        "id": "29RERSgwcXNQ",
        "colab_type": "code",
        "colab": {}
      },
      "source": [
        ""
      ],
      "execution_count": 0,
      "outputs": []
    }
  ]
}